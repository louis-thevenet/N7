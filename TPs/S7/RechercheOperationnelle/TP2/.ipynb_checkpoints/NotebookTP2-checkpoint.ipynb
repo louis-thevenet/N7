{
 "cells": [
  {
   "cell_type": "markdown",
   "metadata": {},
   "source": [
    "# TP 2 : Branch-and-bound applied to a knapsack problem"
   ]
  },
  {
   "cell_type": "markdown",
   "metadata": {},
   "source": [
    "### Initialisation (à faire une seule fois)"
   ]
  },
  {
   "cell_type": "code",
   "execution_count": 1,
   "metadata": {},
   "outputs": [],
   "source": [
    "DISPLAY_TREE = false\n",
    "if DISPLAY_TREE\n",
    "    import Pkg; \n",
    "    Pkg.add(\"GraphRecipes\"); Pkg.add(\"Plots\"); \n",
    "    using GraphRecipes, Plots #only used to visualize the search tree at the end of the branch-and-bound\n",
    "end"
   ]
  },
  {
   "cell_type": "markdown",
   "metadata": {},
   "source": [
    "### Récupération des données"
   ]
  },
  {
   "cell_type": "code",
   "execution_count": 2,
   "metadata": {},
   "outputs": [
    {
     "data": {
      "text/plain": [
       "readKnaptxtInstance (generic function with 1 method)"
      ]
     },
     "execution_count": 2,
     "metadata": {},
     "output_type": "execute_result"
    }
   ],
   "source": [
    "function readKnaptxtInstance(filename)\n",
    "    price=Int64[]\n",
    "    weight=Int64[]\n",
    "    KnapCap=Int64[]\n",
    "    open(filename) do f\n",
    "        for i in 1:3\n",
    "            tok = split(readline(f))\n",
    "            if(tok[1] == \"ListPrices=\")\n",
    "                for i in 2:(length(tok)-1)\n",
    "                    push!(price,parse(Int64, tok[i]))\n",
    "                end\n",
    "            elseif(tok[1] == \"ListWeights=\")\n",
    "                for i in 2:(length(tok)-1)\n",
    "                    push!(weight,parse(Int64, tok[i]))\n",
    "                end\n",
    "            elseif(tok[1] == \"Capacity=\")\n",
    "                push!(KnapCap, parse(Int64, tok[2]))\n",
    "            else\n",
    "                println(\"Unknown read :\", tok)\n",
    "            end\n",
    "        end\n",
    "    end\n",
    "    capacity=KnapCap[1]\n",
    "    return price, weight, capacity\n",
    "end"
   ]
  },
  {
   "cell_type": "markdown",
   "metadata": {},
   "source": [
    "### Tests de sondabilités TA, TO et TR basés sur le modèle linéaire"
   ]
  },
  {
   "cell_type": "code",
   "execution_count": 3,
   "metadata": {},
   "outputs": [
    {
     "data": {
      "text/plain": [
       "testSondability_LP (generic function with 1 method)"
      ]
     },
     "execution_count": 3,
     "metadata": {},
     "output_type": "execute_result"
    }
   ],
   "source": [
    "function testSondability_LP(model2, x, BestProfit, Bestsol)\n",
    "    TA, TO, TR = false, false, false\n",
    "    if(termination_status(model2) == MOI.INFEASIBLE)#Test de faisabilite\n",
    "        TA=true\n",
    "        println(\"TA\")\n",
    "    elseif(objective_value(model2) <= BestProfit) #Test d'optimalite\n",
    "        TO=true\n",
    "        println(\"TO\")\n",
    "    elseif( prod(abs.([round.(v, digits=0) for v in value.(x)]-value.(x)) .<= fill(10^-5, size(x)))\n",
    "        ) #Test de resolution\n",
    "        TR=true\n",
    "        println(\"TR\")\n",
    "        #if (value(benef) >= BestProfit)\n",
    "        if (objective_value(model2) >= BestProfit)\n",
    "            Bestsol = value.(x)\n",
    "            #BestProfit=value(benef)\n",
    "            BestProfit=objective_value(model2)\n",
    "            println(\"\\nNew Solution memorized \", Bestsol, \" with bestprofit \", BestProfit, \"\\n\")\n",
    "        end\n",
    "    else\n",
    "        println(\"non sondable\")\n",
    "    end\n",
    "    TA, TO, TR, Bestsol, BestProfit\n",
    "end"
   ]
  },
  {
   "cell_type": "markdown",
   "metadata": {},
   "source": [
    "- TA: Vrai si la solution trouvée pour ce noeud n'est pas réalisable\n",
    "- TO: Vrai si la borne sup trouvée pour ce noeud est moins bonne que la meilleure connue actuellement\n",
    "- TR: Vrai si dans la solution trouvée pour ce noeud, les quantités prises sont entières (à un epsilon près)"
   ]
  },
  {
   "cell_type": "markdown",
   "metadata": {},
   "source": [
    "## Procédure de séparation (branching) et stratégie d'exploration permettant de se placer au prochain noeud à traiter"
   ]
  },
  {
   "cell_type": "code",
   "execution_count": 4,
   "metadata": {},
   "outputs": [
    {
     "data": {
      "text/plain": [
       "exploreNextNode_depthfirst! (generic function with 1 method)"
      ]
     },
     "execution_count": 4,
     "metadata": {},
     "output_type": "execute_result"
    }
   ],
   "source": [
    "function separateNodeThenchooseNext_lexicographic_depthfirst!(listobjs, listvals, n)\n",
    "    # this node is non-sondable. Apply the branching criterion to separate it into two subnodes\n",
    "    # and choose the child-node at the left\n",
    "\n",
    "    # lexicographic branching criterion: branch on the 1st object not yet fixed\n",
    "    i, obj = 1, 0\n",
    "    while((i <= n) && (obj==0))\n",
    "        if(!(i in listobjs))\n",
    "            obj=i\n",
    "        end\n",
    "        i+=1\n",
    "    end\n",
    "\n",
    "    println(\"\\nbranch on object \", obj, \"\\n\")\n",
    "\n",
    "    # depthfirst exploration strategy: the node selected will be the most left of the child-nodes just created\n",
    "    push!(listobjs,obj) #save the identity of the object selected for branching\n",
    "    push!(listvals,1.0) #save the node selected, identified by the value assigned to the variable/object chosen\n",
    "end\n",
    "\n",
    "\n",
    "function exploreNextNode_depthfirst!(listobjs, listvals, listnodes)\n",
    "    #this node is sondable, go back to parent node then right child if possible\n",
    "\n",
    "    stop=false\n",
    "    #check if we are not at the root node\n",
    "    if (length(listobjs)>= 1)\n",
    "        #go back to parent node\n",
    "        obj=pop!(listobjs)\n",
    "        theval=pop!(listvals)\n",
    "        tmp=pop!(listnodes)\n",
    "\n",
    "        #go to right child if possible, otherwise go back to parent\n",
    "        while( (theval==0.0) && (length(listobjs)>= 1))\n",
    "            obj=pop!(listobjs)\n",
    "            theval=pop!(listvals)\n",
    "            tmp=pop!(listnodes)\n",
    "        end\n",
    "        if theval==1.0\n",
    "            push!(listobjs,obj)\n",
    "            push!(listvals,0.0)\n",
    "        else\n",
    "            println(\"\\nFINISHED\")\n",
    "            stop=true\n",
    "        end\n",
    "    else\n",
    "        #the root node was sondable\n",
    "        println(\"\\nFINISHED\")\n",
    "        stop=true\n",
    "    end\n",
    "    return stop\n",
    "end"
   ]
  },
  {
   "cell_type": "markdown",
   "metadata": {},
   "source": [
    "La séparation se fait sur le premier objet qui n'a pas encore été choisi.\n",
    "\n",
    "L'exploration se fait toujours sur le noeud le plus à gauche."
   ]
  },
  {
   "cell_type": "markdown",
   "metadata": {},
   "source": [
    "###  Création de la relaxation linéaire (= modèle associé au noeud 0): <span style=\"color:red\"> SECTION A SUPPRIMER !!!! </span>\n",
    "\n",
    "<span style=\"color:red\"> Cette section est à commenter/supprimer et remplacer par vos propres calculs de bornes supérieures et autres, par exemple basées sur les bornes 1 et 2 vues en cours, ou d'autres calculs de bornes de votre choix/conception validés au préalable par votre encadrant/e de TP </span>"
   ]
  },
  {
   "cell_type": "code",
   "execution_count": 9,
   "metadata": {},
   "outputs": [
    {
     "data": {
      "text/plain": [
       "createModel_LP (generic function with 1 method)"
      ]
     },
     "execution_count": 9,
     "metadata": {},
     "output_type": "execute_result"
    }
   ],
   "source": [
    "using JuMP, Clp #to comment for the lab class\n",
    "\n",
    "function updateModele_LP!(model2, x, listobjs, listvals)\n",
    "    for i in 1:length(listobjs)\n",
    "        set_lower_bound(x[listobjs[i]],listvals[i])\n",
    "        set_upper_bound(x[listobjs[i]],listvals[i])\n",
    "    end\n",
    "end\n",
    "\n",
    "function reset_LP!(model2, x, listobjs)\n",
    "    for i in 1:length(listobjs)\n",
    "        set_lower_bound(x[listobjs[i]],0.0)\n",
    "        set_upper_bound(x[listobjs[i]],1.0)\n",
    "    end\n",
    "end\n",
    "\n",
    "function resetAll_LP!(model2, x)\n",
    "    for i in 1:length(x)\n",
    "        set_lower_bound(x[i],0.0)\n",
    "        set_upper_bound(x[i],1.0)\n",
    "    end\n",
    "end\n",
    "\n",
    "function createModel_LP(price, weight, capacity)\n",
    "# ROOT NODE\n",
    "\n",
    "    n=length(price)\n",
    "\n",
    "    model2 = Model(Clp.Optimizer) # set optimizer\n",
    "    set_optimizer_attribute(model2, \"LogLevel\", 0) #don't display anything during solve\n",
    "    set_optimizer_attribute(model2, \"Algorithm\", 4) #LP solver chosen is simplex\n",
    "\n",
    "    # define x variables as CONTINUOUS (recall that it is not possible to define binary variables in Clp)\n",
    "    @variable(model2, 0 <= x[i in 1:n] <= 1)\n",
    "\n",
    "    # define objective function\n",
    "    @objective(model2, Max, sum(price[i]*x[i] for i in 1:n))\n",
    "\n",
    "    # define the capacity constraint\n",
    "    @constraint(model2, sum(weight[i]*x[i] for i in 1:n) <=  capacity)\n",
    "\n",
    "    println(model2)\n",
    "\n",
    "    return model2, x\n",
    "end"
   ]
  },
  {
   "cell_type": "markdown",
   "metadata": {},
   "source": [
    "### Boucle principale : résoudre une relaxation, appliquer les tests de sondabilité, identifier le prochain noeud, répéter."
   ]
  },
  {
   "cell_type": "code",
   "execution_count": 10,
   "metadata": {},
   "outputs": [
    {
     "data": {
      "text/plain": [
       "solveKnapInstance (generic function with 1 method)"
      ]
     },
     "execution_count": 10,
     "metadata": {},
     "output_type": "execute_result"
    }
   ],
   "source": [
    "function solveKnapInstance(filename)\n",
    "\n",
    "    price, weight, capacity = readKnaptxtInstance(filename)\n",
    "\n",
    "    model2, x = createModel_LP(price, weight, capacity)\n",
    "    \n",
    "    #create the structure to memorize the search tree for visualization at the end\n",
    "    trParentnodes=Int64[] #will store orig node of arc in search tree\n",
    "    trChildnodes=Int64[] #will store destination node of arc in search tree\n",
    "    trNamenodes=[] #will store names of nodes in search tree\n",
    "    \n",
    "    #intermediate structure to navigate in the search tree\n",
    "    listobjs=Int64[]\n",
    "    listvals=Float64[]\n",
    "    listnodes=Int64[]\n",
    "\n",
    "    BestProfit::Float64=-1.0\n",
    "    Bestsol=Float64[]\n",
    "\n",
    "    current_node_number::Int64=0\n",
    "    stop = false\n",
    "\n",
    "    while(!stop)\n",
    "\n",
    "        println(\"\\nNode number \", current_node_number, \": \\n---------------\\n\")\n",
    "\n",
    "        if DISPLAY_TREE\n",
    "        #Update the graphical tree\n",
    "            push!(trNamenodes,current_node_number+1) \n",
    "            if(length(trNamenodes)>=2)\n",
    "                push!(trParentnodes,listnodes[end]+1) # +1 because the 1st node is \"node 0\"\n",
    "                push!(trChildnodes, current_node_number+1) # +1 because the 1st node is \"node 0\"\n",
    "            end\n",
    "        end\n",
    "        \n",
    "        push!(listnodes, current_node_number)\n",
    "        \n",
    "        #create LP of current node\n",
    "        updateModele_LP!(model2, x, listobjs, listvals)\n",
    "        \n",
    "        println(model2)\n",
    "        \n",
    "        print(\"Solve the LP model of the current node to compute its bound: start ... \")\n",
    "\n",
    "        status = optimize!(model2)\n",
    "\n",
    "        println(\"... end\"); \n",
    "\n",
    "        print(\": Solution LP\")\n",
    "        if(termination_status(model2) == MOI.INFEASIBLE)#(has_values(model2))\n",
    "            print(\" : NOT AVAILABLE (probably infeasible or ressources limit reached)\")\n",
    "        else\n",
    "            print(\" \", objective_value(model2))\n",
    "            [print(\"\\t\", name(v),\"=\",value(v)) for v in all_variables(model2)] \n",
    "        end\n",
    "        println(\" \"); \n",
    "\n",
    "\n",
    "        println(\"\\nPrevious Solution memorized \", Bestsol, \" with bestprofit \", BestProfit, \"\\n\")\n",
    "\n",
    "        TA, TO, TR, Bestsol, BestProfit = testSondability_LP(model2, x, BestProfit, Bestsol)\n",
    "\n",
    "        is_node_sondable = TA || TO || TR\n",
    "\n",
    "        #Reset_LP!(model2, x, listobjs)\n",
    "\n",
    "        if(!is_node_sondable)\n",
    "            separateNodeThenchooseNext_lexicographic_depthfirst!(listobjs, listvals, length(price))\n",
    "        else\n",
    "            stop = exploreNextNode_depthfirst!(listobjs, listvals, listnodes)\n",
    "        end\n",
    "        \n",
    "        resetAll_LP!(model2, x)\n",
    "\n",
    "        current_node_number = current_node_number + 1\n",
    "    end\n",
    "\n",
    "    println(\"\\n******\\n\\nOptimal value = \", BestProfit, \"\\n\\nOptimal x=\", Bestsol)\n",
    "\n",
    "    return BestProfit, Bestsol, trParentnodes, trChildnodes, trNamenodes\n",
    "\n",
    "end\n"
   ]
  },
  {
   "cell_type": "code",
   "execution_count": null,
   "metadata": {},
   "outputs": [],
   "source": [
    "function solveNdisplayKnap(filename)\n",
    "\n",
    "    println(\"\\n Branch-and-Bound for solving a knapsack problem. \\n\\n Solving instance '\" * filename * \"'\\n\")\n",
    "\n",
    "    BestProfit, Bestsol, trParentnodes, trChildnodes, trNamenodes = solveKnapInstance(filename)\n",
    "\n",
    "    println(\"\\n******\\n\\nOptimal value = \", BestProfit, \"\\n\\nOptimal x=\", Bestsol)\n",
    "    if DISPLAY_TREE\n",
    "        println(\"\\n Branch-and-bound tree visualization : start display ...\")\n",
    "        display(graphplot(trParentnodes, trChildnodes, names=trNamenodes, method=:tree))\n",
    "        println(\"... end display. \\n\\n\")\n",
    "    end\n",
    "end"
   ]
  },
  {
   "cell_type": "code",
   "execution_count": null,
   "metadata": {},
   "outputs": [],
   "source": [
    "INSTANCE = \"InstancesKnapSack/test.opb.txt\"\n",
    "\n",
    "solveNdisplayKnap(INSTANCE)"
   ]
  },
  {
   "cell_type": "markdown",
   "metadata": {},
   "source": [
    "# Version sans solver"
   ]
  },
  {
   "cell_type": "code",
   "execution_count": 40,
   "metadata": {},
   "outputs": [
    {
     "data": {
      "text/plain": [
       "separateNodeThenchooseNext! (generic function with 2 methods)"
      ]
     },
     "execution_count": 40,
     "metadata": {},
     "output_type": "execute_result"
    }
   ],
   "source": [
    "function create_variable!(price, weight, capacity)\n",
    "   x = zeros(length(price)) \n",
    "end\n",
    "\n",
    "function borne_sup!(price, weight, capacity, listobjs)\n",
    "    ratios = price ./ weight\n",
    "    index_sort = sortperm(ratios, rev=true)\n",
    "    ratios = ratios[index_sort]\n",
    "    \n",
    "    i = 0\n",
    "    borne_sup = 0\n",
    "    for i in length(price)\n",
    "        if !(i in listobjs)\n",
    "            if capacity - weight[i] >= 0\n",
    "                borne_sup += price[i]\n",
    "                capacity -= weight[i]\n",
    "            else\n",
    "                borne_sup += (capacity / weight[i]) * price[i]\n",
    "                capacity -= (capacity / weight[i]) * weight[i]                \n",
    "            end\n",
    "        else\n",
    "            borne_sup += price[i]\n",
    "        end\n",
    "    end\n",
    "    borne_sup\n",
    "    \n",
    "end\n",
    "\n",
    "function create_lp_current(x, best_profit, capacity, borne_sup)\n",
    "    TA, TO, TR = false, false, false\n",
    "    if(capacity <= 0) #Test de faisabilite\n",
    "        TA=true\n",
    "        println(\"TA\")\n",
    "    elseif(borne_sup <= bestProfit) #Test d'optimalite\n",
    "        TO=true\n",
    "        println(\"TO\")\n",
    "    elseif( prod(abs.([round.(v, digits=0) for v in value.(x)]-value.(x)) .<= fill(10^-5, size(x)))\n",
    "        ) #Test de resolution\n",
    "        TR=true\n",
    "        println(\"TR\")\n",
    "        #if (value(benef) >= BestProfit)\n",
    "        if (borne_sup >= best_profit)\n",
    "            best_sol = x\n",
    "            bestProfit=borne_sup\n",
    "            println(\"\\nNew Solution memorized \", best_sol, \" with bestprofit \", best_profit, \"\\n\")\n",
    "        end\n",
    "    else\n",
    "        println(\"non sondable\")\n",
    "    end\n",
    "    TA, TO, TR, best_sol, best_profit\n",
    "end\n",
    "\n",
    "function separateNodeThenchooseNext!(price, weight, capacity, listobjs, listvals)\n",
    "    ratios = price ./ weight\n",
    "    most_fractional = 0\n",
    "    for i in length(ratio)\n",
    "       if abs(1/2 - ratios[most_fractional] - floor(ratios[most_fractional]))  >= abs(1/2 - ratios[i] - floor(ratios[i]))\n",
    "            most_fractional = i\n",
    "        end\n",
    "    end\n",
    "    listobjs_added = copy(listobjs) \n",
    "    listvals_added = copy(listvals)\n",
    "    push!(listobjs_added,most_fractionnal) #save the identity of the object selected for branching\n",
    "    push!(listvals_added,1.0) #save the node selected, identified by the value assigned to the variable/object chosen\n",
    "    \n",
    "    borne_sup_left = borne_sup!(price, weight, capacity, listobjs)\n",
    "    borne_sup_right = borne_sup!(price, weight, capacity, listobjs)\n",
    "\n",
    "    \n",
    "end\n",
    "\n",
    "\n",
    "    "
   ]
  },
  {
   "cell_type": "code",
   "execution_count": 36,
   "metadata": {},
   "outputs": [
    {
     "data": {
      "text/plain": [
       "solveKnapInstance2 (generic function with 1 method)"
      ]
     },
     "execution_count": 36,
     "metadata": {},
     "output_type": "execute_result"
    }
   ],
   "source": [
    "function solveKnapInstance2(filename)\n",
    "\n",
    "    price, weight, capacity = readKnaptxtInstance(filename)\n",
    "\n",
    "    x = create_variable(price, weight, capacity)\n",
    "    \n",
    "    #create the structure to memorize the search tree for visualization at the end\n",
    "    trParentnodes=Int64[] #will store orig node of arc in search tree\n",
    "    trChildnodes=Int64[] #will store destination node of arc in search tree\n",
    "    trNamenodes=[] #will store names of nodes in search tree\n",
    "    \n",
    "    #intermediate structure to navigate in the search tree\n",
    "    listobjs=Int64[]\n",
    "    listvals=Float64[]\n",
    "    listnodes=Int64[]\n",
    "\n",
    "    best_profit::Float64=-1.0\n",
    "    best_sol =Float64[]\n",
    "\n",
    "    current_node_number::Int64=0\n",
    "    stop = false\n",
    "\n",
    "    while(!stop)\n",
    "\n",
    "        println(\"\\nNode number \", current_node_number, \": \\n---------------\\n\")\n",
    "\n",
    "        if DISPLAY_TREE\n",
    "        #Update the graphical tree\n",
    "            push!(trNamenodes,current_node_number+1) \n",
    "            if(length(trNamenodes)>=2)\n",
    "                push!(trParentnodes,listnodes[end]+1) # +1 because the 1st node is \"node 0\"\n",
    "                push!(trChildnodes, current_node_number+1) # +1 because the 1st node is \"node 0\"\n",
    "            end\n",
    "        end\n",
    "        \n",
    "        push!(listnodes, current_node_number)\n",
    "        \n",
    "        #create LP of current node\n",
    "        borne_sup = borne_sup!(price, weight, capacity, listobjs)\n",
    "        \n",
    "        print(\"Solve the LP model of the current node to compute its bound: start ... \")\n",
    "\n",
    "        \n",
    "        println(\"... end\"); \n",
    "        print(\": Solution LP\")\n",
    "        \n",
    "     \n",
    "        println(\"\\nPrevious Solution memorized \", best_sol, \" with bestprofit \", best_profit, \"\\n\")\n",
    "\n",
    "        \n",
    "        TA, TO, TR, best_sol, best_profit = create_lp_current(x, best_profit, capacity, borne_sup)\n",
    "        \n",
    "        is_node_sondable = TA || TO || TR\n",
    "\n",
    "\n",
    "        if(!is_node_sondable)\n",
    "            separateNodeThenchooseNext!(price, weight, capacity, listobjs, listvals)\n",
    "        else\n",
    "            stop = exploreNextNode_depthfirst!(listobjs, listvals, listnodes)\n",
    "        end\n",
    "        \n",
    "        resetAll_LP!(model2, x)\n",
    "\n",
    "        current_node_number = current_node_number + 1\n",
    "    end\n",
    "\n",
    "    println(\"\\n******\\n\\nOptimal value = \", BestProfit, \"\\n\\nOptimal x=\", Bestsol)\n",
    "\n",
    "    return BestProfit, Bestsol, trParentnodes, trChildnodes, trNamenodes\n",
    "\n",
    "end\n"
   ]
  },
  {
   "cell_type": "markdown",
   "metadata": {},
   "source": [
    "### Affichage du résultat final"
   ]
  },
  {
   "cell_type": "code",
   "execution_count": 37,
   "metadata": {},
   "outputs": [
    {
     "data": {
      "text/plain": [
       "solveNdisplayKnap (generic function with 1 method)"
      ]
     },
     "execution_count": 37,
     "metadata": {},
     "output_type": "execute_result"
    }
   ],
   "source": [
    "function solveNdisplayKnap(filename)\n",
    "\n",
    "    println(\"\\n Branch-and-Bound for solving a knapsack problem. \\n\\n Solving instance '\" * filename * \"'\\n\")\n",
    "\n",
    "    BestProfit, Bestsol, trParentnodes, trChildnodes, trNamenodes = solveKnapInstance(filename)\n",
    "\n",
    "    println(\"\\n******\\n\\nOptimal value = \", BestProfit, \"\\n\\nOptimal x=\", Bestsol)\n",
    "    if DISPLAY_TREE\n",
    "        println(\"\\n Branch-and-bound tree visualization : start display ...\")\n",
    "        display(graphplot(trParentnodes, trChildnodes, names=trNamenodes, method=:tree))\n",
    "        println(\"... end display. \\n\\n\")\n",
    "    end\n",
    "end"
   ]
  },
  {
   "cell_type": "code",
   "execution_count": 38,
   "metadata": {},
   "outputs": [
    {
     "name": "stdout",
     "output_type": "stream",
     "text": [
      "\n",
      "Node number 0: \n",
      "---------------\n",
      "\n"
     ]
    },
    {
     "ename": "LoadError",
     "evalue": "UndefVarError: bestProfit not defined",
     "output_type": "error",
     "traceback": [
      "UndefVarError: bestProfit not defined",
      "",
      "Stacktrace:",
      " [1] create_lp_current(x::Vector{Float64}, best_profit::Float64, capacity::Int64, borne_sup::Int64)",
      "   @ Main ./In[35]:34",
      " [2] solveKnapInstance2(filename::String)",
      "   @ Main ./In[36]:41",
      " [3] top-level scope",
      "   @ In[38]:3"
     ]
    }
   ],
   "source": [
    "INSTANCE = \"InstancesKnapSack/test.opb.txt\"\n",
    "\n",
    "solveKnapInstance2(INSTANCE)"
   ]
  },
  {
   "cell_type": "code",
   "execution_count": null,
   "metadata": {},
   "outputs": [],
   "source": []
  },
  {
   "cell_type": "code",
   "execution_count": null,
   "metadata": {},
   "outputs": [],
   "source": []
  },
  {
   "cell_type": "code",
   "execution_count": null,
   "metadata": {},
   "outputs": [],
   "source": []
  }
 ],
 "metadata": {
  "kernelspec": {
   "display_name": "Julia 1.8.2 - N7",
   "language": "julia",
   "name": "julia-1.8-n7"
  },
  "language_info": {
   "file_extension": ".jl",
   "mimetype": "application/julia",
   "name": "julia",
   "version": "1.8.2"
  }
 },
 "nbformat": 4,
 "nbformat_minor": 4
}
