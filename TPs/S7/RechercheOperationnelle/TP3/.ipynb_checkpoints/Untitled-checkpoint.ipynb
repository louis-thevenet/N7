{
 "cells": [
  {
   "cell_type": "markdown",
   "id": "17031b92",
   "metadata": {},
   "source": [
    "# Sujet 3 : Programmation dynamique (TP)\n",
    "\n",
    "La programmation dynamique consiste à diviser le problème en sous-problèmes plus facilement résolvables.\n",
    "\n"
   ]
  },
  {
   "cell_type": "code",
   "execution_count": 79,
   "id": "290a0ebc",
   "metadata": {},
   "outputs": [
    {
     "data": {
      "text/plain": [
       "10"
      ]
     },
     "execution_count": 79,
     "metadata": {},
     "output_type": "execute_result"
    }
   ],
   "source": [
    "price=Int64[42,40,12,25]\n",
    "weight=Int64[7,4,3,5]\n",
    "cap=10"
   ]
  },
  {
   "cell_type": "code",
   "execution_count": 126,
   "id": "f582a8fc",
   "metadata": {},
   "outputs": [
    {
     "data": {
      "text/plain": [
       "KnapsackDynamic (generic function with 1 method)"
      ]
     },
     "execution_count": 126,
     "metadata": {},
     "output_type": "execute_result"
    }
   ],
   "source": [
    "function KnapsackDynamic(price, weight, cap)\n",
    "    n = length(weight)\n",
    "    C = [0 for i=1:cap+1, j=1:n+1]\n",
    "    O = [0 for i=1:cap+1, j=1:n+1]\n",
    "    for i = 2:n+1\n",
    "        for j = 1:cap+1\n",
    "            if j > weight[i-1]\n",
    "                C[j,i] = max(C[j-weight[i-1], i-1] + price[i-1], C[j, i-1])\n",
    "                if C[j-weight[i-1], i-1] + price[i-1] <= C[j, i-1]\n",
    "                    O[j,i] = 0\n",
    "                    \n",
    "                else\n",
    "                    O[j, i] = 1\n",
    "                    O[j, i-1]\n",
    "                end\n",
    "            else\n",
    "                C[j,i] = C[j,i-1]\n",
    "            end \n",
    "        end\n",
    "    end\n",
    "    return  O\n",
    "end"
   ]
  },
  {
   "cell_type": "code",
   "execution_count": 127,
   "id": "61de4ea7",
   "metadata": {},
   "outputs": [
    {
     "data": {
      "text/plain": [
       "11×5 Matrix{Int64}:\n",
       " 0  0  0  0  0\n",
       " 0  0  0  0  0\n",
       " 0  0  0  0  0\n",
       " 0  0  0  1  0\n",
       " 0  0  1  0  0\n",
       " 0  0  1  0  0\n",
       " 0  0  1  0  0\n",
       " 0  1  0  1  0\n",
       " 0  1  0  1  0\n",
       " 0  1  0  1  1\n",
       " 0  1  0  1  1"
      ]
     },
     "execution_count": 127,
     "metadata": {},
     "output_type": "execute_result"
    }
   ],
   "source": [
    "KnapsackDynamic(price, weight, cap)"
   ]
  },
  {
   "cell_type": "markdown",
   "id": "263ed549",
   "metadata": {},
   "source": [
    " 0 0 0 0 Q = 2\n",
    "     "
   ]
  },
  {
   "cell_type": "code",
   "execution_count": null,
   "id": "2c74f82d",
   "metadata": {},
   "outputs": [],
   "source": []
  }
 ],
 "metadata": {
  "kernelspec": {
   "display_name": "Julia 1.8.2 - N7",
   "language": "julia",
   "name": "julia-1.8-n7"
  },
  "language_info": {
   "file_extension": ".jl",
   "mimetype": "application/julia",
   "name": "julia",
   "version": "1.8.2"
  }
 },
 "nbformat": 4,
 "nbformat_minor": 5
}
