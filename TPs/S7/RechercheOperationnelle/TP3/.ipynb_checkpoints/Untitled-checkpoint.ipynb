{
 "cells": [
  {
   "cell_type": "markdown",
   "id": "17031b92",
   "metadata": {},
   "source": [
    "# Sujet 3 : Programmation dynamique (TP)\n",
    "\n",
    "La programmation dynamique consiste à diviser le problème en sous-étapes elles même résolues optimalement selon les étapes précedéntes. Il est donc nécessaire de trouver une relation de récurrence entre deux étapes pour pouvoir effectuer un parcours de la denière décision puis sur les précédentes pour trouver la solution optimale du problème initiale.\n"
   ]
  },
  {
   "cell_type": "code",
   "execution_count": 1,
   "id": "290a0ebc",
   "metadata": {},
   "outputs": [
    {
     "data": {
      "text/plain": [
       "10"
      ]
     },
     "execution_count": 1,
     "metadata": {},
     "output_type": "execute_result"
    }
   ],
   "source": [
    "price=Int64[42,40,12,25]\n",
    "weight=Int64[7,4,3,5]\n",
    "cap=10"
   ]
  },
  {
   "cell_type": "code",
   "execution_count": 4,
   "id": "f582a8fc",
   "metadata": {
    "scrolled": true
   },
   "outputs": [
    {
     "data": {
      "text/plain": [
       "KnapsackDynamic (generic function with 1 method)"
      ]
     },
     "execution_count": 4,
     "metadata": {},
     "output_type": "execute_result"
    }
   ],
   "source": [
    "function KnapsackDynamic(price, weight, cap)\n",
    "    n = length(weight)\n",
    "    C = [0 for i=1:cap+1, j=1:n+1]\n",
    "    O = [0 for i=1:cap+1, j=1:n+1]\n",
    "    for i = 2:n+1\n",
    "        println(\"col: \",i)\n",
    "        for j = 1:cap+1\n",
    "            println(\"ligne: \",j)\n",
    "            O[j, 1] = j-1\n",
    "            \n",
    "            if j > weight[i-1]\n",
    "                C[j,i] = max(C[j-weight[i-1], i-1] + price[i-1], C[j, i-1])\n",
    "                if C[j-weight[i-1], i-1] + price[i-1] <= C[j, i-1]\n",
    "                    println(i , \" solution precedente meilleure\")\n",
    "             \n",
    "                    O[j,i-1]=weight[i-1]\n",
    "                    O[j,i] = 0\n",
    "                else\n",
    "                    println(i , \" nouvelle solution meilleure\")\n",
    "                    O[j,i] = weight[i-1]\n",
    "                    O[j,i-1]=0\n",
    "                end\n",
    "            else\n",
    "                C[j,i] = C[j,i-1]   \n",
    "                O[j,i]=0\n",
    "            end \n",
    "            \n",
    "        end\n",
    "    end\n",
    "    return O\n",
    "end"
   ]
  },
  {
   "cell_type": "code",
   "execution_count": 5,
   "id": "61de4ea7",
   "metadata": {
    "scrolled": false
   },
   "outputs": [
    {
     "name": "stdout",
     "output_type": "stream",
     "text": [
      "col: 2\n",
      "ligne: 1\n",
      "ligne: 2\n",
      "ligne: 3\n",
      "ligne: 4\n",
      "ligne: 5\n",
      "ligne: 6\n",
      "ligne: 7\n",
      "ligne: 8\n",
      "2 nouvelle solution meilleure\n",
      "ligne: 9\n",
      "2 nouvelle solution meilleure\n",
      "ligne: 10\n",
      "2 nouvelle solution meilleure\n",
      "ligne: 11\n",
      "2 nouvelle solution meilleure\n",
      "col: 3\n",
      "ligne: 1\n",
      "ligne: 2\n",
      "ligne: 3\n",
      "ligne: 4\n",
      "ligne: 5\n",
      "3 nouvelle solution meilleure\n",
      "ligne: 6\n",
      "3 nouvelle solution meilleure\n",
      "ligne: 7\n",
      "3 nouvelle solution meilleure\n",
      "ligne: 8\n",
      "3 solution precedente meilleure\n",
      "ligne: 9\n",
      "3 solution precedente meilleure\n",
      "ligne: 10\n",
      "3 solution precedente meilleure\n",
      "ligne: 11\n",
      "3 solution precedente meilleure\n",
      "col: 4\n",
      "ligne: 1\n",
      "ligne: 2\n",
      "ligne: 3\n",
      "ligne: 4\n",
      "4 nouvelle solution meilleure\n",
      "ligne: 5\n",
      "4 solution precedente meilleure\n",
      "ligne: 6\n",
      "4 solution precedente meilleure\n",
      "ligne: 7\n",
      "4 solution precedente meilleure\n",
      "ligne: 8\n",
      "4 nouvelle solution meilleure\n",
      "ligne: 9\n",
      "4 nouvelle solution meilleure\n",
      "ligne: 10\n",
      "4 nouvelle solution meilleure\n",
      "ligne: 11\n",
      "4 nouvelle solution meilleure\n",
      "col: 5\n",
      "ligne: 1\n",
      "ligne: 2\n",
      "ligne: 3\n",
      "ligne: 4\n",
      "ligne: 5\n",
      "ligne: 6\n",
      "5 solution precedente meilleure\n",
      "ligne: 7\n",
      "5 solution precedente meilleure\n",
      "ligne: 8\n",
      "5 solution precedente meilleure\n",
      "ligne: 9\n",
      "5 solution precedente meilleure\n",
      "ligne: 10\n",
      "5 nouvelle solution meilleure\n",
      "ligne: 11\n",
      "5 nouvelle solution meilleure\n"
     ]
    },
    {
     "data": {
      "text/plain": [
       "11×5 Matrix{Int64}:\n",
       "  0  0  0  0  0\n",
       "  1  0  0  0  0\n",
       "  2  0  0  0  0\n",
       "  3  0  0  3  0\n",
       "  4  0  3  0  0\n",
       "  5  0  3  5  0\n",
       "  6  0  3  5  0\n",
       "  7  4  0  5  0\n",
       "  8  4  0  5  0\n",
       "  9  4  0  0  5\n",
       " 10  4  0  0  5"
      ]
     },
     "execution_count": 5,
     "metadata": {},
     "output_type": "execute_result"
    }
   ],
   "source": [
    "KnapsackDynamic(price, weight, cap)"
   ]
  },
  {
   "cell_type": "markdown",
   "id": "263ed549",
   "metadata": {},
   "source": [
    " 0 0 0 0 Q = 2\n",
    "     "
   ]
  },
  {
   "cell_type": "code",
   "execution_count": null,
   "id": "2c74f82d",
   "metadata": {},
   "outputs": [],
   "source": []
  }
 ],
 "metadata": {
  "kernelspec": {
   "display_name": "Julia 1.8.2 - N7",
   "language": "julia",
   "name": "julia-1.8-n7"
  },
  "language_info": {
   "file_extension": ".jl",
   "mimetype": "application/julia",
   "name": "julia",
   "version": "1.8.2"
  }
 },
 "nbformat": 4,
 "nbformat_minor": 5
}
