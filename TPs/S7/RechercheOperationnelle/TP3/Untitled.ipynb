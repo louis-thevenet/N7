{
 "cells": [
  {
   "cell_type": "markdown",
   "id": "17031b92",
   "metadata": {},
   "source": [
    "# Sujet 3 : Programmation dynamique (TP)\n",
    "\n",
    "La programmation dynamique consiste à diviser le problème en sous-étapes elles même résolues optimalement selon les étapes précedéntes. Il est donc nécessaire de trouver une relation de récurrence entre deux étapes pour pouvoir effectuer un parcours de la denière décision puis sur les précédentes pour trouver la solution optimale du problème initiale.\n"
   ]
  },
  {
   "cell_type": "code",
   "execution_count": 8,
   "id": "290a0ebc",
   "metadata": {},
   "outputs": [
    {
     "data": {
      "text/plain": [
       "10"
      ]
     },
     "execution_count": 8,
     "metadata": {},
     "output_type": "execute_result"
    }
   ],
   "source": [
    "price=Int64[42,40,12,25]\n",
    "weight=Int64[7,4,3,5]\n",
    "cap=10"
   ]
  },
  {
   "cell_type": "code",
   "execution_count": 31,
   "id": "f582a8fc",
   "metadata": {
    "scrolled": true
   },
   "outputs": [
    {
     "data": {
      "text/plain": [
       "ObjectsTaken (generic function with 1 method)"
      ]
     },
     "execution_count": 31,
     "metadata": {},
     "output_type": "execute_result"
    }
   ],
   "source": [
    "function KnapsackDynamic(price, weight, cap)\n",
    "    n = length(weight)\n",
    "    C = [0 for i=1:cap+1, j=1:n+1]\n",
    "    for i = 2:n+1\n",
    "        #println(\"col: \",i)\n",
    "        for j = 1:cap+1\n",
    "            #println(\"ligne: \",j)\n",
    "            if j > weight[i-1] \n",
    "                C[j,i] = max(C[j-weight[i-1], i-1] + price[i-1], C[j, i-1])\n",
    "            \n",
    "            else\n",
    "                C[j,i] = C[j,i-1]   \n",
    "            end \n",
    "            \n",
    "        end\n",
    "    end\n",
    "    return C\n",
    "end\n",
    "\n",
    "function ObjectsTaken(C, price, weight)\n",
    "    j,i = size(C)\n",
    "    O = []\n",
    "    while i > 1 && j > 0 \n",
    "        # Vérifie si l'objet a été pris, se base sur notre idée initiale de choisir pendant la création de C\n",
    "        if j  > weight[i - 1] && C[j, i] == C[j - weight[i - 1], i - 1] + price[i - 1]\n",
    "            push!(O, i - 1)\n",
    "            j = j - weight[i - 1]\n",
    "        end\n",
    "        i = i - 1    \n",
    "    end\n",
    "    n1, n2 = size(C)\n",
    "    return O, C[n1, n2]\n",
    "end"
   ]
  },
  {
   "cell_type": "code",
   "execution_count": 32,
   "id": "61de4ea7",
   "metadata": {
    "scrolled": true
   },
   "outputs": [
    {
     "data": {
      "text/plain": [
       "(Any[4, 2], 65)"
      ]
     },
     "execution_count": 32,
     "metadata": {},
     "output_type": "execute_result"
    }
   ],
   "source": [
    "C = KnapsackDynamic(price, weight, cap)\n",
    "ObjectsTaken(C, price, weight)"
   ]
  },
  {
   "cell_type": "code",
   "execution_count": 59,
   "id": "af16b7e3",
   "metadata": {},
   "outputs": [
    {
     "data": {
      "text/plain": [
       "solveKnapInstance (generic function with 1 method)"
      ]
     },
     "execution_count": 59,
     "metadata": {},
     "output_type": "execute_result"
    }
   ],
   "source": [
    "function readKnaptxtInstance(filename)\n",
    "    price=Int64[]\n",
    "    weight=Int64[]\n",
    "    KnapCap=Int64[]\n",
    "    open(filename) do f\n",
    "        for i in 1:3\n",
    "            tok = split(readline(f))\n",
    "            if(tok[1] == \"ListPrices=\")\n",
    "                for i in 2:(length(tok)-1)\n",
    "                    push!(price,parse(Int64, tok[i]))\n",
    "                end\n",
    "            elseif(tok[1] == \"ListWeights=\")\n",
    "                for i in 2:(length(tok)-1)\n",
    "                    push!(weight,parse(Int64, tok[i]))\n",
    "                end\n",
    "            elseif(tok[1] == \"Capacity=\")\n",
    "                push!(KnapCap, parse(Int64, tok[2]))\n",
    "            else\n",
    "                println(\"Unknown read :\", tok)\n",
    "            end\n",
    "        end\n",
    "    end\n",
    "    capacity=KnapCap[1]\n",
    "    return price, weight, capacity\n",
    "end\n",
    "\n",
    "function solveKnapInstance(filename)\n",
    "        println(filename)\n",
    "    price, weight, cap = readKnaptxtInstance(filename)\n",
    "    C = KnapsackDynamic(price, weight, cap)\n",
    "    objects, bestSol = ObjectsTaken(C, price, weight)\n",
    "      \n",
    "    w1, _ = size(C)\n",
    "    println(\"Pour un poids maximum de : \", w1-1)\n",
    "    println(\"La meilleure solution est \", bestSol, \", pour les objets : \")\n",
    "    for i in objects\n",
    "        println(\"\\$ \",i, \" -> de poids \", weight[i], \" et de valeur : \", price[i])\n",
    "    end\n",
    "    printstyled(\"-------------------------------------------------------------------------\\n\", bold=true, color=:red)\n",
    "end"
   ]
  },
  {
   "cell_type": "code",
   "execution_count": 61,
   "id": "2c74f82d",
   "metadata": {},
   "outputs": [
    {
     "name": "stdout",
     "output_type": "stream",
     "text": [
      "../TP2/InstancesKnapSack/test.opb.txt\n",
      "Pour un poids maximum de : 10\n",
      "La meilleure solution est 65, pour les objets : \n",
      "$ 4 -> de poids 5 et de valeur : 25\n",
      "$ 2 -> de poids 4 et de valeur : 40\n",
      "\u001b[31m\u001b[1m-------------------------------------------------------------------------\u001b[22m\u001b[39m\n",
      "../TP2/InstancesKnapSack/Similar_Weights/KnapSack_1000_1000_-8943.opb.txt\n",
      "Pour un poids maximum de : 990583\n",
      "La meilleure solution est 8943, pour les objets : \n",
      "$ 889 -> de poids 100080 et de valeur : 991\n",
      "$ 858 -> de poids 100065 et de valeur : 1000\n",
      "$ 814 -> de poids 100042 et de valeur : 996\n",
      "$ 811 -> de poids 100003 et de valeur : 990\n",
      "$ 782 -> de poids 100046 et de valeur : 991\n",
      "$ 559 -> de poids 100042 et de valeur : 991\n",
      "$ 273 -> de poids 100007 et de valeur : 997\n",
      "$ 77 -> de poids 100085 et de valeur : 992\n",
      "$ 29 -> de poids 100093 et de valeur : 995\n",
      "\u001b[31m\u001b[1m-------------------------------------------------------------------------\u001b[22m\u001b[39m\n",
      "../TP2/InstancesKnapSack/Similar_Weights/KnapSack_100_1000_-995.opb.txt\n",
      "Pour un poids maximum de : 100099\n",
      "La meilleure solution est 995, pour les objets : \n",
      "$ 29 -> de poids 100093 et de valeur : 995\n",
      "\u001b[31m\u001b[1m-------------------------------------------------------------------------\u001b[22m\u001b[39m\n",
      "../TP2/InstancesKnapSack/Strongly_Correlated/KnapSack_100_1000_-2397.opb.txt\n",
      "Pour un poids maximum de : 997\n",
      "La meilleure solution est 2397, pour les objets : \n",
      "$ 97 -> de poids 29 et de valeur : 129\n",
      "$ 90 -> de poids 58 et de valeur : 158\n",
      "$ 86 -> de poids 81 et de valeur : 181\n",
      "$ 77 -> de poids 98 et de valeur : 198\n",
      "$ 75 -> de poids 70 et de valeur : 170\n",
      "$ 71 -> de poids 107 et de valeur : 207\n",
      "$ 65 -> de poids 97 et de valeur : 197\n",
      "$ 51 -> de poids 138 et de valeur : 238\n",
      "$ 47 -> de poids 72 et de valeur : 172\n",
      "$ 30 -> de poids 7 et de valeur : 107\n",
      "$ 27 -> de poids 94 et de valeur : 194\n",
      "$ 21 -> de poids 9 et de valeur : 109\n",
      "$ 13 -> de poids 43 et de valeur : 143\n",
      "$ 2 -> de poids 94 et de valeur : 194\n",
      "\u001b[31m\u001b[1m-------------------------------------------------------------------------\u001b[22m\u001b[39m\n"
     ]
    }
   ],
   "source": [
    "solveKnapInstance(\"../TP2/InstancesKnapSack/test.opb.txt\")\n",
    "solveKnapInstance(\"../TP2/InstancesKnapSack/Similar_Weights/KnapSack_1000_1000_-8943.opb.txt\")\n",
    "solveKnapInstance(\"../TP2/InstancesKnapSack/Similar_Weights/KnapSack_100_1000_-995.opb.txt\")\n",
    "solveKnapInstance(\"../TP2/InstancesKnapSack/Strongly_Correlated/KnapSack_100_1000_-2397.opb.txt\")"
   ]
  }
 ],
 "metadata": {
  "kernelspec": {
   "display_name": "Julia 1.8.2 - N7",
   "language": "julia",
   "name": "julia-1.8-n7"
  },
  "language_info": {
   "file_extension": ".jl",
   "mimetype": "application/julia",
   "name": "julia",
   "version": "1.8.2"
  }
 },
 "nbformat": 4,
 "nbformat_minor": 5
}
