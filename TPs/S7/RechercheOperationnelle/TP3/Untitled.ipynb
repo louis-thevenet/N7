{
 "cells": [
  {
   "cell_type": "markdown",
   "id": "17031b92",
   "metadata": {},
   "source": [
    "# Sujet 3 : Programmation dynamique (TP)\n",
    "\n",
    "La programmation dynamique consiste à diviser le problème en sous-étapes elles même résolues optimalement selon les étapes précedéntes. Il est donc nécessaire de trouver une relation de récurrence entre deux étapes pour pouvoir effectuer un parcours de la denière décision puis sur les précédentes pour trouver la solution optimale du problème initiale.\n"
   ]
  },
  {
   "cell_type": "code",
   "execution_count": 8,
   "id": "290a0ebc",
   "metadata": {},
   "outputs": [
    {
     "data": {
      "text/plain": [
       "10"
      ]
     },
     "execution_count": 8,
     "metadata": {},
     "output_type": "execute_result"
    }
   ],
   "source": [
    "price=Int64[42,40,12,25]\n",
    "weight=Int64[7,4,3,5]\n",
    "cap=10"
   ]
  },
  {
   "cell_type": "code",
   "execution_count": 27,
   "id": "f582a8fc",
   "metadata": {
    "scrolled": true
   },
   "outputs": [
    {
     "data": {
      "text/plain": [
       "ObjectsTaken (generic function with 1 method)"
      ]
     },
     "execution_count": 27,
     "metadata": {},
     "output_type": "execute_result"
    }
   ],
   "source": [
    "function KnapsackDynamic(price, weight, cap)\n",
    "    n = length(weight)\n",
    "    C = [0 for i=1:cap+1, j=1:n+1]\n",
    "    for i = 2:n+1\n",
    "        #println(\"col: \",i)\n",
    "        for j = 1:cap+1\n",
    "            #println(\"ligne: \",j)\n",
    "            if j > weight[i-1] \n",
    "                C[j,i] = max(C[j-weight[i-1], i-1] + price[i-1], C[j, i-1])\n",
    "            \n",
    "            else\n",
    "                C[j,i] = C[j,i-1]   \n",
    "            end \n",
    "            \n",
    "        end\n",
    "    end\n",
    "    return C\n",
    "end\n",
    "\n",
    "function ObjectsTaken(C, price, weight)\n",
    "    j,i = size(C)\n",
    "    O = []\n",
    "    while j > 1 && i > 0 \n",
    "        if i  > weight[j - 1] && C[i, j] == C[i - weight[j - 1], j - 1] + price[j - 1]\n",
    "            push!(O, j - 1)\n",
    "            i = i - weight[j - 1]\n",
    "        end\n",
    "        j = j - 1    \n",
    "    end\n",
    "    return O, C[size(C)]\n",
    "end"
   ]
  },
  {
   "cell_type": "code",
   "execution_count": 28,
   "id": "61de4ea7",
   "metadata": {
    "scrolled": true
   },
   "outputs": [
    {
     "ename": "LoadError",
     "evalue": "ArgumentError: invalid index: (11, 5) of type Tuple{Int64, Int64}",
     "output_type": "error",
     "traceback": [
      "ArgumentError: invalid index: (11, 5) of type Tuple{Int64, Int64}",
      "",
      "Stacktrace:",
      " [1] to_index(i::Tuple{Int64, Int64})",
      "   @ Base ./indices.jl:300",
      " [2] to_index(A::Matrix{Int64}, i::Tuple{Int64, Int64})",
      "   @ Base ./indices.jl:277",
      " [3] to_indices",
      "   @ ./indices.jl:333 [inlined]",
      " [4] to_indices",
      "   @ ./indices.jl:325 [inlined]",
      " [5] getindex",
      "   @ ./abstractarray.jl:1241 [inlined]",
      " [6] ObjectsTaken(C::Matrix{Int64}, price::Vector{Int64}, weight::Vector{Int64})",
      "   @ Main ./In[27]:30",
      " [7] top-level scope",
      "   @ In[28]:2"
     ]
    }
   ],
   "source": [
    "C = KnapsackDynamic(price, weight, cap)\n",
    "ObjectsTaken(C, price, weight)"
   ]
  },
  {
   "cell_type": "markdown",
   "id": "263ed549",
   "metadata": {},
   "source": [
    " 0 0 0 0 Q = 2\n",
    "     "
   ]
  },
  {
   "cell_type": "code",
   "execution_count": null,
   "id": "2c74f82d",
   "metadata": {},
   "outputs": [],
   "source": []
  }
 ],
 "metadata": {
  "kernelspec": {
   "display_name": "Julia 1.8.2 - N7",
   "language": "julia",
   "name": "julia-1.8-n7"
  },
  "language_info": {
   "file_extension": ".jl",
   "mimetype": "application/julia",
   "name": "julia",
   "version": "1.8.2"
  }
 },
 "nbformat": 4,
 "nbformat_minor": 5
}
