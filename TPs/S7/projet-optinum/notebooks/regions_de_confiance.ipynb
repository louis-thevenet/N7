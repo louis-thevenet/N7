{
 "cells": [
  {
   "cell_type": "markdown",
   "metadata": {},
   "source": [
    "<center>\n",
    "<h1> TP-Projet d'optimisation numérique </h1>\n",
    "<h1> Algorithme des régions de confiance </h1>\n",
    "</center>"
   ]
  },
  {
   "cell_type": "markdown",
   "metadata": {},
   "source": [
    "# Régions de confiance avec Pas de Cauchy \n",
    "\n",
    "## Implémentation \n",
    "\n",
    "1. Coder l'algorithme du pas de Cauchy dans le fichier `src/cauchy.jl`). La spécification de cet algorithme est donnée dans le fichier.\n",
    "2. Ecrire des tests exhaustifs (qui testent tous les cas de figure possibles) pour votre algorithme du pas de Cauchy. Vous remplirez pour cela le fichier `test/tester_cauchy.jl` sur le modèle des autres fichiers de tests et vous exécuterez dans la cellule de code ci-après ces tests."
   ]
  },
  {
   "cell_type": "code",
   "execution_count": 1,
   "metadata": {},
   "outputs": [
    {
     "name": "stdout",
     "output_type": "stream",
     "text": [
      "Affichage des résultats des algorithmes : true\n",
      "\n",
      "\u001b[0m\u001b[1mTest Summary:               | \u001b[22m\u001b[32m\u001b[1mPass  \u001b[22m\u001b[39m\u001b[36m\u001b[1mTotal  \u001b[22m\u001b[39m\u001b[0m\u001b[1mTime\u001b[22m\n",
      "algorithme du Pas de Cauchy | \u001b[32m   4  \u001b[39m\u001b[36m    4  \u001b[39m\u001b[0m0.1s\n"
     ]
    }
   ],
   "source": [
    "include(\"../src/cauchy.jl\")         # votre algorithme\n",
    "include(\"../test/tester_cauchy.jl\") # la fonction pour tester votre algorithme\n",
    "afficher = true\n",
    "#\n",
    "tester_cauchy(cauchy, afficher); # tester l'algorithme"
   ]
  },
  {
   "cell_type": "markdown",
   "metadata": {},
   "source": [
    "3. Coder l'algorithme des régions de confiance (fichier `src/regions_de_confiance.jl`). Sa spécification est donnée dans le fichier.\n",
    "4. Vérifier que les tests ci-dessous passent."
   ]
  },
  {
   "cell_type": "code",
   "execution_count": 38,
   "metadata": {},
   "outputs": [
    {
     "name": "stdout",
     "output_type": "stream",
     "text": [
      "Affichage des résultats des algorithmes : true\n",
      "\n",
      "-------------------------------------------------------------------------\n",
      "\u001b[34m\u001b[1mRésultats de : RC et cauchy appliqué à f1:\u001b[22m\u001b[39m\n",
      "  * x0       = [1, 0, 0]\n",
      "  * x_sol    = [1.0000065049853921, 1.000000873235793, 0.9999952414861938]\n",
      "  * f(x_sol) = 7.71589405988668e-11\n",
      "  * nb_iters = 33\n",
      "  * flag     = 2\n",
      "  * solution = [1, 1, 1]\n",
      "-------------------------------------------------------------------------\n",
      "\u001b[34m\u001b[1mRésultats de : RC et cauchy appliqué à f1:\u001b[22m\u001b[39m\n",
      "  * x0       = [10.0, 3.0, -2.2]\n",
      "  * x_sol    = [1.000003643199092, 0.9999997146801121, 0.9999957861612833]\n",
      "  * f(x_sol) = 3.233185493810428e-11\n",
      "  * nb_iters = 34\n",
      "  * flag     = 2\n",
      "  * solution = [1, 1, 1]\n",
      "-------------------------------------------------------------------------\n",
      "\u001b[34m\u001b[1mRésultats de : RC et cauchy appliqué à f2:\u001b[22m\u001b[39m\n",
      "  * x0       = [-1.2, 1.0]\n",
      "  * x_sol    = [0.999352919780472, 0.9987042941117394]\n",
      "  * f(x_sol) = 4.19098603746544e-7\n",
      "  * nb_iters = 5000\n",
      "  * flag     = 3\n",
      "  * solution = [1, 1]\n",
      "-------------------------------------------------------------------------\n",
      "\u001b[34m\u001b[1mRésultats de : RC et cauchy appliqué à f2:\u001b[22m\u001b[39m\n",
      "  * x0       = [10, 0]\n",
      "  * x_sol    = [0.9961677295959247, 0.9923393628794702]\n",
      "  * f(x_sol) = 1.4697922915267688e-5\n",
      "  * nb_iters = 864\n",
      "  * flag     = 0\n",
      "  * solution = [1, 1]\n",
      "-------------------------------------------------------------------------\n",
      "\u001b[34m\u001b[1mRésultats de : RC et cauchy appliqué à f2:\u001b[22m\u001b[39m\n",
      "  * x0       = [0.0, 0.005000000000000001]\n",
      "  * x_sol    = [0.9998396449224052, 0.9996777929517464]\n",
      "  * f(x_sol) = 2.5945584061704288e-8\n",
      "  * nb_iters = 4512\n",
      "  * flag     = 2\n",
      "  * solution = [1, 1]\n",
      "\u001b[0m\u001b[1mTest Summary:        | \u001b[22m\u001b[32m\u001b[1mPass  \u001b[22m\u001b[39m\u001b[36m\u001b[1mTotal  \u001b[22m\u001b[39m\u001b[0m\u001b[1mTime\u001b[22m\n",
      "RC et pas de Cauchy  | \u001b[32m  15  \u001b[39m\u001b[36m   15  \u001b[39m\u001b[0m0.5s\n"
     ]
    }
   ],
   "source": [
    "include(\"../src/regions_de_confiance.jl\")\n",
    "include(\"../test/tester_rc_cauchy.jl\")\n",
    "\n",
    "#\n",
    "afficher = true # si true, alors affiche les résultats des algorithmes\n",
    "\n",
    "#\n",
    "tester_rc_cauchy(regions_de_confiance, afficher);"
   ]
  },
  {
   "cell_type": "markdown",
   "metadata": {},
   "source": [
    "## Interprétation \n",
    "\n",
    "<!-- Pour ces questions, des représentations graphiques sont attendues pour corroborer vos réponses. -->\n",
    "\n",
    "1. Soit la fonction $f_1 \\colon \\mathbb{R}^3 \\to \\mathbb{R}$ définie par\n",
    "$$ \n",
    "    f_1(x_1,x_2, x_3) = 2 (x_1 +x_2 + x_3 -3)^2 + (x_1-x_2)^2 + (x_2 - x_3)^2\n",
    "$$ \n",
    "Quelle relation lie la fonction $f_1$ et son modèle de Taylor à l’ordre 2 ? Comparer alors les performances de l'algorithme de Newton et celui des régions de confiance avec le pas de Cauchy sur cette fonction.\n",
    "\n",
    "2. Le rayon initial de la région de confiance est un paramètre important dans l’analyse\n",
    "de la performance de l’algorithme. Sur quel(s) autre(s) paramètre(s) peut-on jouer\n",
    "pour essayer d’améliorer cette performance ? Étudier l’influence d’au moins deux de\n",
    "ces paramètres. Pour cela vous ferez des tests numériques et donnerez les résultats sous forme de tableaux et de graphiques."
   ]
  },
  {
   "cell_type": "markdown",
   "metadata": {},
   "source": [
    "### 1.\n",
    "\n",
    "$f_1$ est déjà quadratique, ainsi, le modèle de Taylor à l'ordre 2 de $f_1$ est très proche de $f_1$\n",
    "\n",
    "L'algorithme des régions de confiance approxime $f_1$ par une fonction qui lui est très proche, ainsi, il minimise directement $f_1$.\n",
    "\n",
    "La fonction est strictement convexe donc l'algorithme de Newton converge en une itération"
   ]
  },
  {
   "cell_type": "markdown",
   "metadata": {},
   "source": [
    "### 2."
   ]
  },
  {
   "cell_type": "code",
   "execution_count": 53,
   "metadata": {},
   "outputs": [
    {
     "data": {
      "image/svg+xml": [
       "<?xml version=\"1.0\" encoding=\"utf-8\"?>\n",
       "<svg xmlns=\"http://www.w3.org/2000/svg\" xmlns:xlink=\"http://www.w3.org/1999/xlink\" width=\"600\" height=\"400\" viewBox=\"0 0 2400 1600\">\n",
       "<defs>\n",
       "  <clipPath id=\"clip460\">\n",
       "    <rect x=\"0\" y=\"0\" width=\"2400\" height=\"1600\"/>\n",
       "  </clipPath>\n",
       "</defs>\n",
       "<path clip-path=\"url(#clip460)\" d=\"M0 1600 L2400 1600 L2400 0 L0 0  Z\" fill=\"#ffffff\" fill-rule=\"evenodd\" fill-opacity=\"1\"/>\n",
       "<defs>\n",
       "  <clipPath id=\"clip461\">\n",
       "    <rect x=\"480\" y=\"0\" width=\"1681\" height=\"1600\"/>\n",
       "  </clipPath>\n",
       "</defs>\n",
       "<path clip-path=\"url(#clip460)\" d=\"M202.177 1486.45 L2352.76 1486.45 L2352.76 47.2441 L202.177 47.2441  Z\" fill=\"#ffffff\" fill-rule=\"evenodd\" fill-opacity=\"1\"/>\n",
       "<defs>\n",
       "  <clipPath id=\"clip462\">\n",
       "    <rect x=\"202\" y=\"47\" width=\"2152\" height=\"1440\"/>\n",
       "  </clipPath>\n",
       "</defs>\n",
       "<polyline clip-path=\"url(#clip462)\" style=\"stroke:#000000; stroke-linecap:round; stroke-linejoin:round; stroke-width:2; stroke-opacity:0.1; fill:none\" points=\"263.042,1486.45 263.042,47.2441 \"/>\n",
       "<polyline clip-path=\"url(#clip462)\" style=\"stroke:#000000; stroke-linecap:round; stroke-linejoin:round; stroke-width:2; stroke-opacity:0.1; fill:none\" points=\"770.254,1486.45 770.254,47.2441 \"/>\n",
       "<polyline clip-path=\"url(#clip462)\" style=\"stroke:#000000; stroke-linecap:round; stroke-linejoin:round; stroke-width:2; stroke-opacity:0.1; fill:none\" points=\"1277.47,1486.45 1277.47,47.2441 \"/>\n",
       "<polyline clip-path=\"url(#clip462)\" style=\"stroke:#000000; stroke-linecap:round; stroke-linejoin:round; stroke-width:2; stroke-opacity:0.1; fill:none\" points=\"1784.68,1486.45 1784.68,47.2441 \"/>\n",
       "<polyline clip-path=\"url(#clip462)\" style=\"stroke:#000000; stroke-linecap:round; stroke-linejoin:round; stroke-width:2; stroke-opacity:0.1; fill:none\" points=\"2291.89,1486.45 2291.89,47.2441 \"/>\n",
       "<polyline clip-path=\"url(#clip460)\" style=\"stroke:#000000; stroke-linecap:round; stroke-linejoin:round; stroke-width:4; stroke-opacity:1; fill:none\" points=\"202.177,1486.45 2352.76,1486.45 \"/>\n",
       "<polyline clip-path=\"url(#clip460)\" style=\"stroke:#000000; stroke-linecap:round; stroke-linejoin:round; stroke-width:4; stroke-opacity:1; fill:none\" points=\"263.042,1486.45 263.042,1467.55 \"/>\n",
       "<polyline clip-path=\"url(#clip460)\" style=\"stroke:#000000; stroke-linecap:round; stroke-linejoin:round; stroke-width:4; stroke-opacity:1; fill:none\" points=\"770.254,1486.45 770.254,1467.55 \"/>\n",
       "<polyline clip-path=\"url(#clip460)\" style=\"stroke:#000000; stroke-linecap:round; stroke-linejoin:round; stroke-width:4; stroke-opacity:1; fill:none\" points=\"1277.47,1486.45 1277.47,1467.55 \"/>\n",
       "<polyline clip-path=\"url(#clip460)\" style=\"stroke:#000000; stroke-linecap:round; stroke-linejoin:round; stroke-width:4; stroke-opacity:1; fill:none\" points=\"1784.68,1486.45 1784.68,1467.55 \"/>\n",
       "<polyline clip-path=\"url(#clip460)\" style=\"stroke:#000000; stroke-linecap:round; stroke-linejoin:round; stroke-width:4; stroke-opacity:1; fill:none\" points=\"2291.89,1486.45 2291.89,1467.55 \"/>\n",
       "<path clip-path=\"url(#clip460)\" d=\"M263.042 1517.37 Q259.431 1517.37 257.602 1520.93 Q255.797 1524.47 255.797 1531.6 Q255.797 1538.71 257.602 1542.27 Q259.431 1545.82 263.042 1545.82 Q266.676 1545.82 268.482 1542.27 Q270.311 1538.71 270.311 1531.6 Q270.311 1524.47 268.482 1520.93 Q266.676 1517.37 263.042 1517.37 M263.042 1513.66 Q268.852 1513.66 271.908 1518.27 Q274.987 1522.85 274.987 1531.6 Q274.987 1540.33 271.908 1544.94 Q268.852 1549.52 263.042 1549.52 Q257.232 1549.52 254.153 1544.94 Q251.098 1540.33 251.098 1531.6 Q251.098 1522.85 254.153 1518.27 Q257.232 1513.66 263.042 1513.66 Z\" fill=\"#000000\" fill-rule=\"evenodd\" fill-opacity=\"1\" /><path clip-path=\"url(#clip460)\" d=\"M749.525 1544.91 L765.845 1544.91 L765.845 1548.85 L743.9 1548.85 L743.9 1544.91 Q746.562 1542.16 751.146 1537.53 Q755.752 1532.88 756.933 1531.53 Q759.178 1529.01 760.058 1527.27 Q760.96 1525.51 760.96 1523.82 Q760.96 1521.07 759.016 1519.33 Q757.095 1517.6 753.993 1517.6 Q751.794 1517.6 749.34 1518.36 Q746.909 1519.13 744.132 1520.68 L744.132 1515.95 Q746.956 1514.82 749.409 1514.24 Q751.863 1513.66 753.9 1513.66 Q759.27 1513.66 762.465 1516.35 Q765.659 1519.03 765.659 1523.52 Q765.659 1525.65 764.849 1527.57 Q764.062 1529.47 761.956 1532.07 Q761.377 1532.74 758.275 1535.95 Q755.173 1539.15 749.525 1544.91 Z\" fill=\"#000000\" fill-rule=\"evenodd\" fill-opacity=\"1\" /><path clip-path=\"url(#clip460)\" d=\"M775.706 1514.29 L794.062 1514.29 L794.062 1518.22 L779.988 1518.22 L779.988 1526.7 Q781.006 1526.35 782.025 1526.19 Q783.044 1526 784.062 1526 Q789.849 1526 793.229 1529.17 Q796.608 1532.34 796.608 1537.76 Q796.608 1543.34 793.136 1546.44 Q789.664 1549.52 783.344 1549.52 Q781.169 1549.52 778.9 1549.15 Q776.655 1548.78 774.247 1548.04 L774.247 1543.34 Q776.331 1544.47 778.553 1545.03 Q780.775 1545.58 783.252 1545.58 Q787.256 1545.58 789.594 1543.48 Q791.932 1541.37 791.932 1537.76 Q791.932 1534.15 789.594 1532.04 Q787.256 1529.94 783.252 1529.94 Q781.377 1529.94 779.502 1530.35 Q777.65 1530.77 775.706 1531.65 L775.706 1514.29 Z\" fill=\"#000000\" fill-rule=\"evenodd\" fill-opacity=\"1\" /><path clip-path=\"url(#clip460)\" d=\"M1252.17 1514.29 L1270.52 1514.29 L1270.52 1518.22 L1256.45 1518.22 L1256.45 1526.7 Q1257.47 1526.35 1258.48 1526.19 Q1259.5 1526 1260.52 1526 Q1266.31 1526 1269.69 1529.17 Q1273.07 1532.34 1273.07 1537.76 Q1273.07 1543.34 1269.6 1546.44 Q1266.12 1549.52 1259.8 1549.52 Q1257.63 1549.52 1255.36 1549.15 Q1253.11 1548.78 1250.71 1548.04 L1250.71 1543.34 Q1252.79 1544.47 1255.01 1545.03 Q1257.23 1545.58 1259.71 1545.58 Q1263.72 1545.58 1266.05 1543.48 Q1268.39 1541.37 1268.39 1537.76 Q1268.39 1534.15 1266.05 1532.04 Q1263.72 1529.94 1259.71 1529.94 Q1257.84 1529.94 1255.96 1530.35 Q1254.11 1530.77 1252.17 1531.65 L1252.17 1514.29 Z\" fill=\"#000000\" fill-rule=\"evenodd\" fill-opacity=\"1\" /><path clip-path=\"url(#clip460)\" d=\"M1292.28 1517.37 Q1288.67 1517.37 1286.84 1520.93 Q1285.04 1524.47 1285.04 1531.6 Q1285.04 1538.71 1286.84 1542.27 Q1288.67 1545.82 1292.28 1545.82 Q1295.92 1545.82 1297.72 1542.27 Q1299.55 1538.71 1299.55 1531.6 Q1299.55 1524.47 1297.72 1520.93 Q1295.92 1517.37 1292.28 1517.37 M1292.28 1513.66 Q1298.09 1513.66 1301.15 1518.27 Q1304.23 1522.85 1304.23 1531.6 Q1304.23 1540.33 1301.15 1544.94 Q1298.09 1549.52 1292.28 1549.52 Q1286.47 1549.52 1283.39 1544.94 Q1280.34 1540.33 1280.34 1531.6 Q1280.34 1522.85 1283.39 1518.27 Q1286.47 1513.66 1292.28 1513.66 Z\" fill=\"#000000\" fill-rule=\"evenodd\" fill-opacity=\"1\" /><path clip-path=\"url(#clip460)\" d=\"M1758.53 1514.29 L1780.75 1514.29 L1780.75 1516.28 L1768.21 1548.85 L1763.32 1548.85 L1775.13 1518.22 L1758.53 1518.22 L1758.53 1514.29 Z\" fill=\"#000000\" fill-rule=\"evenodd\" fill-opacity=\"1\" /><path clip-path=\"url(#clip460)\" d=\"M1789.92 1514.29 L1808.28 1514.29 L1808.28 1518.22 L1794.2 1518.22 L1794.2 1526.7 Q1795.22 1526.35 1796.24 1526.19 Q1797.26 1526 1798.28 1526 Q1804.06 1526 1807.44 1529.17 Q1810.82 1532.34 1810.82 1537.76 Q1810.82 1543.34 1807.35 1546.44 Q1803.88 1549.52 1797.56 1549.52 Q1795.38 1549.52 1793.12 1549.15 Q1790.87 1548.78 1788.46 1548.04 L1788.46 1543.34 Q1790.55 1544.47 1792.77 1545.03 Q1794.99 1545.58 1797.47 1545.58 Q1801.47 1545.58 1803.81 1543.48 Q1806.15 1541.37 1806.15 1537.76 Q1806.15 1534.15 1803.81 1532.04 Q1801.47 1529.94 1797.47 1529.94 Q1795.59 1529.94 1793.72 1530.35 Q1791.87 1530.77 1789.92 1531.65 L1789.92 1514.29 Z\" fill=\"#000000\" fill-rule=\"evenodd\" fill-opacity=\"1\" /><path clip-path=\"url(#clip460)\" d=\"M2251.5 1544.91 L2259.14 1544.91 L2259.14 1518.55 L2250.83 1520.21 L2250.83 1515.95 L2259.09 1514.29 L2263.77 1514.29 L2263.77 1544.91 L2271.4 1544.91 L2271.4 1548.85 L2251.5 1548.85 L2251.5 1544.91 Z\" fill=\"#000000\" fill-rule=\"evenodd\" fill-opacity=\"1\" /><path clip-path=\"url(#clip460)\" d=\"M2290.85 1517.37 Q2287.24 1517.37 2285.41 1520.93 Q2283.6 1524.47 2283.6 1531.6 Q2283.6 1538.71 2285.41 1542.27 Q2287.24 1545.82 2290.85 1545.82 Q2294.48 1545.82 2296.29 1542.27 Q2298.12 1538.71 2298.12 1531.6 Q2298.12 1524.47 2296.29 1520.93 Q2294.48 1517.37 2290.85 1517.37 M2290.85 1513.66 Q2296.66 1513.66 2299.71 1518.27 Q2302.79 1522.85 2302.79 1531.6 Q2302.79 1540.33 2299.71 1544.94 Q2296.66 1549.52 2290.85 1549.52 Q2285.04 1549.52 2281.96 1544.94 Q2278.9 1540.33 2278.9 1531.6 Q2278.9 1522.85 2281.96 1518.27 Q2285.04 1513.66 2290.85 1513.66 Z\" fill=\"#000000\" fill-rule=\"evenodd\" fill-opacity=\"1\" /><path clip-path=\"url(#clip460)\" d=\"M2321.01 1517.37 Q2317.4 1517.37 2315.57 1520.93 Q2313.77 1524.47 2313.77 1531.6 Q2313.77 1538.71 2315.57 1542.27 Q2317.4 1545.82 2321.01 1545.82 Q2324.64 1545.82 2326.45 1542.27 Q2328.28 1538.71 2328.28 1531.6 Q2328.28 1524.47 2326.45 1520.93 Q2324.64 1517.37 2321.01 1517.37 M2321.01 1513.66 Q2326.82 1513.66 2329.88 1518.27 Q2332.96 1522.85 2332.96 1531.6 Q2332.96 1540.33 2329.88 1544.94 Q2326.82 1549.52 2321.01 1549.52 Q2315.2 1549.52 2312.12 1544.94 Q2309.07 1540.33 2309.07 1531.6 Q2309.07 1522.85 2312.12 1518.27 Q2315.2 1513.66 2321.01 1513.66 Z\" fill=\"#000000\" fill-rule=\"evenodd\" fill-opacity=\"1\" /><polyline clip-path=\"url(#clip462)\" style=\"stroke:#000000; stroke-linecap:round; stroke-linejoin:round; stroke-width:2; stroke-opacity:0.1; fill:none\" points=\"202.177,1214.26 2352.76,1214.26 \"/>\n",
       "<polyline clip-path=\"url(#clip462)\" style=\"stroke:#000000; stroke-linecap:round; stroke-linejoin:round; stroke-width:2; stroke-opacity:0.1; fill:none\" points=\"202.177,932.692 2352.76,932.692 \"/>\n",
       "<polyline clip-path=\"url(#clip462)\" style=\"stroke:#000000; stroke-linecap:round; stroke-linejoin:round; stroke-width:2; stroke-opacity:0.1; fill:none\" points=\"202.177,651.12 2352.76,651.12 \"/>\n",
       "<polyline clip-path=\"url(#clip462)\" style=\"stroke:#000000; stroke-linecap:round; stroke-linejoin:round; stroke-width:2; stroke-opacity:0.1; fill:none\" points=\"202.177,369.548 2352.76,369.548 \"/>\n",
       "<polyline clip-path=\"url(#clip462)\" style=\"stroke:#000000; stroke-linecap:round; stroke-linejoin:round; stroke-width:2; stroke-opacity:0.1; fill:none\" points=\"202.177,87.9763 2352.76,87.9763 \"/>\n",
       "<polyline clip-path=\"url(#clip460)\" style=\"stroke:#000000; stroke-linecap:round; stroke-linejoin:round; stroke-width:4; stroke-opacity:1; fill:none\" points=\"202.177,1486.45 202.177,47.2441 \"/>\n",
       "<polyline clip-path=\"url(#clip460)\" style=\"stroke:#000000; stroke-linecap:round; stroke-linejoin:round; stroke-width:4; stroke-opacity:1; fill:none\" points=\"202.177,1214.26 221.074,1214.26 \"/>\n",
       "<polyline clip-path=\"url(#clip460)\" style=\"stroke:#000000; stroke-linecap:round; stroke-linejoin:round; stroke-width:4; stroke-opacity:1; fill:none\" points=\"202.177,932.692 221.074,932.692 \"/>\n",
       "<polyline clip-path=\"url(#clip460)\" style=\"stroke:#000000; stroke-linecap:round; stroke-linejoin:round; stroke-width:4; stroke-opacity:1; fill:none\" points=\"202.177,651.12 221.074,651.12 \"/>\n",
       "<polyline clip-path=\"url(#clip460)\" style=\"stroke:#000000; stroke-linecap:round; stroke-linejoin:round; stroke-width:4; stroke-opacity:1; fill:none\" points=\"202.177,369.548 221.074,369.548 \"/>\n",
       "<polyline clip-path=\"url(#clip460)\" style=\"stroke:#000000; stroke-linecap:round; stroke-linejoin:round; stroke-width:4; stroke-opacity:1; fill:none\" points=\"202.177,87.9763 221.074,87.9763 \"/>\n",
       "<path clip-path=\"url(#clip460)\" d=\"M54.5569 1227.61 L62.1958 1227.61 L62.1958 1201.24 L53.8856 1202.91 L53.8856 1198.65 L62.1495 1196.98 L66.8254 1196.98 L66.8254 1227.61 L74.4642 1227.61 L74.4642 1231.54 L54.5569 1231.54 L54.5569 1227.61 Z\" fill=\"#000000\" fill-rule=\"evenodd\" fill-opacity=\"1\" /><path clip-path=\"url(#clip460)\" d=\"M93.9086 1200.06 Q90.2975 1200.06 88.4688 1203.63 Q86.6632 1207.17 86.6632 1214.3 Q86.6632 1221.4 88.4688 1224.97 Q90.2975 1228.51 93.9086 1228.51 Q97.5428 1228.51 99.3483 1224.97 Q101.177 1221.4 101.177 1214.3 Q101.177 1207.17 99.3483 1203.63 Q97.5428 1200.06 93.9086 1200.06 M93.9086 1196.36 Q99.7187 1196.36 102.774 1200.97 Q105.853 1205.55 105.853 1214.3 Q105.853 1223.03 102.774 1227.63 Q99.7187 1232.21 93.9086 1232.21 Q88.0984 1232.21 85.0197 1227.63 Q81.9642 1223.03 81.9642 1214.3 Q81.9642 1205.55 85.0197 1200.97 Q88.0984 1196.36 93.9086 1196.36 Z\" fill=\"#000000\" fill-rule=\"evenodd\" fill-opacity=\"1\" /><path clip-path=\"url(#clip460)\" d=\"M124.07 1200.06 Q120.459 1200.06 118.631 1203.63 Q116.825 1207.17 116.825 1214.3 Q116.825 1221.4 118.631 1224.97 Q120.459 1228.51 124.07 1228.51 Q127.705 1228.51 129.51 1224.97 Q131.339 1221.4 131.339 1214.3 Q131.339 1207.17 129.51 1203.63 Q127.705 1200.06 124.07 1200.06 M124.07 1196.36 Q129.881 1196.36 132.936 1200.97 Q136.015 1205.55 136.015 1214.3 Q136.015 1223.03 132.936 1227.63 Q129.881 1232.21 124.07 1232.21 Q118.26 1232.21 115.182 1227.63 Q112.126 1223.03 112.126 1214.3 Q112.126 1205.55 115.182 1200.97 Q118.26 1196.36 124.07 1196.36 Z\" fill=\"#000000\" fill-rule=\"evenodd\" fill-opacity=\"1\" /><path clip-path=\"url(#clip460)\" d=\"M154.232 1200.06 Q150.621 1200.06 148.793 1203.63 Q146.987 1207.17 146.987 1214.3 Q146.987 1221.4 148.793 1224.97 Q150.621 1228.51 154.232 1228.51 Q157.867 1228.51 159.672 1224.97 Q161.501 1221.4 161.501 1214.3 Q161.501 1207.17 159.672 1203.63 Q157.867 1200.06 154.232 1200.06 M154.232 1196.36 Q160.042 1196.36 163.098 1200.97 Q166.177 1205.55 166.177 1214.3 Q166.177 1223.03 163.098 1227.63 Q160.042 1232.21 154.232 1232.21 Q148.422 1232.21 145.343 1227.63 Q142.288 1223.03 142.288 1214.3 Q142.288 1205.55 145.343 1200.97 Q148.422 1196.36 154.232 1196.36 Z\" fill=\"#000000\" fill-rule=\"evenodd\" fill-opacity=\"1\" /><path clip-path=\"url(#clip460)\" d=\"M57.7745 946.037 L74.0939 946.037 L74.0939 949.972 L52.1495 949.972 L52.1495 946.037 Q54.8115 943.282 59.3949 938.652 Q64.0013 934 65.1819 932.657 Q67.4272 930.134 68.3068 928.398 Q69.2096 926.639 69.2096 924.949 Q69.2096 922.194 67.2652 920.458 Q65.3439 918.722 62.2421 918.722 Q60.043 918.722 57.5893 919.486 Q55.1588 920.25 52.381 921.801 L52.381 917.078 Q55.2051 915.944 57.6588 915.366 Q60.1124 914.787 62.1495 914.787 Q67.5198 914.787 70.7142 917.472 Q73.9087 920.157 73.9087 924.648 Q73.9087 926.777 73.0985 928.699 Q72.3115 930.597 70.205 933.189 Q69.6263 933.861 66.5245 937.078 Q63.4226 940.273 57.7745 946.037 Z\" fill=\"#000000\" fill-rule=\"evenodd\" fill-opacity=\"1\" /><path clip-path=\"url(#clip460)\" d=\"M93.9086 918.49 Q90.2975 918.49 88.4688 922.055 Q86.6632 925.597 86.6632 932.727 Q86.6632 939.833 88.4688 943.398 Q90.2975 946.939 93.9086 946.939 Q97.5428 946.939 99.3483 943.398 Q101.177 939.833 101.177 932.727 Q101.177 925.597 99.3483 922.055 Q97.5428 918.49 93.9086 918.49 M93.9086 914.787 Q99.7187 914.787 102.774 919.393 Q105.853 923.977 105.853 932.727 Q105.853 941.453 102.774 946.06 Q99.7187 950.643 93.9086 950.643 Q88.0984 950.643 85.0197 946.06 Q81.9642 941.453 81.9642 932.727 Q81.9642 923.977 85.0197 919.393 Q88.0984 914.787 93.9086 914.787 Z\" fill=\"#000000\" fill-rule=\"evenodd\" fill-opacity=\"1\" /><path clip-path=\"url(#clip460)\" d=\"M124.07 918.49 Q120.459 918.49 118.631 922.055 Q116.825 925.597 116.825 932.727 Q116.825 939.833 118.631 943.398 Q120.459 946.939 124.07 946.939 Q127.705 946.939 129.51 943.398 Q131.339 939.833 131.339 932.727 Q131.339 925.597 129.51 922.055 Q127.705 918.49 124.07 918.49 M124.07 914.787 Q129.881 914.787 132.936 919.393 Q136.015 923.977 136.015 932.727 Q136.015 941.453 132.936 946.06 Q129.881 950.643 124.07 950.643 Q118.26 950.643 115.182 946.06 Q112.126 941.453 112.126 932.727 Q112.126 923.977 115.182 919.393 Q118.26 914.787 124.07 914.787 Z\" fill=\"#000000\" fill-rule=\"evenodd\" fill-opacity=\"1\" /><path clip-path=\"url(#clip460)\" d=\"M154.232 918.49 Q150.621 918.49 148.793 922.055 Q146.987 925.597 146.987 932.727 Q146.987 939.833 148.793 943.398 Q150.621 946.939 154.232 946.939 Q157.867 946.939 159.672 943.398 Q161.501 939.833 161.501 932.727 Q161.501 925.597 159.672 922.055 Q157.867 918.49 154.232 918.49 M154.232 914.787 Q160.042 914.787 163.098 919.393 Q166.177 923.977 166.177 932.727 Q166.177 941.453 163.098 946.06 Q160.042 950.643 154.232 950.643 Q148.422 950.643 145.343 946.06 Q142.288 941.453 142.288 932.727 Q142.288 923.977 145.343 919.393 Q148.422 914.787 154.232 914.787 Z\" fill=\"#000000\" fill-rule=\"evenodd\" fill-opacity=\"1\" /><path clip-path=\"url(#clip460)\" d=\"M67.9133 649.766 Q71.2698 650.483 73.1448 652.752 Q75.0429 655.02 75.0429 658.354 Q75.0429 663.469 71.5244 666.27 Q68.0059 669.071 61.5245 669.071 Q59.3486 669.071 57.0338 668.631 Q54.7421 668.215 52.2884 667.358 L52.2884 662.844 Q54.2328 663.979 56.5477 664.557 Q58.8625 665.136 61.3856 665.136 Q65.7837 665.136 68.0754 663.4 Q70.3902 661.664 70.3902 658.354 Q70.3902 655.298 68.2374 653.585 Q66.1078 651.849 62.2884 651.849 L58.2606 651.849 L58.2606 648.007 L62.4735 648.007 Q65.9226 648.007 67.7513 646.641 Q69.58 645.252 69.58 642.659 Q69.58 639.997 67.6819 638.585 Q65.8069 637.15 62.2884 637.15 Q60.3671 637.15 58.168 637.567 Q55.969 637.983 53.3301 638.863 L53.3301 634.696 Q55.9921 633.956 58.3069 633.585 Q60.6449 633.215 62.705 633.215 Q68.0291 633.215 71.1309 635.646 Q74.2327 638.053 74.2327 642.173 Q74.2327 645.044 72.5892 647.034 Q70.9457 649.002 67.9133 649.766 Z\" fill=\"#000000\" fill-rule=\"evenodd\" fill-opacity=\"1\" /><path clip-path=\"url(#clip460)\" d=\"M93.9086 636.919 Q90.2975 636.919 88.4688 640.483 Q86.6632 644.025 86.6632 651.155 Q86.6632 658.261 88.4688 661.826 Q90.2975 665.368 93.9086 665.368 Q97.5428 665.368 99.3483 661.826 Q101.177 658.261 101.177 651.155 Q101.177 644.025 99.3483 640.483 Q97.5428 636.919 93.9086 636.919 M93.9086 633.215 Q99.7187 633.215 102.774 637.821 Q105.853 642.405 105.853 651.155 Q105.853 659.881 102.774 664.488 Q99.7187 669.071 93.9086 669.071 Q88.0984 669.071 85.0197 664.488 Q81.9642 659.881 81.9642 651.155 Q81.9642 642.405 85.0197 637.821 Q88.0984 633.215 93.9086 633.215 Z\" fill=\"#000000\" fill-rule=\"evenodd\" fill-opacity=\"1\" /><path clip-path=\"url(#clip460)\" d=\"M124.07 636.919 Q120.459 636.919 118.631 640.483 Q116.825 644.025 116.825 651.155 Q116.825 658.261 118.631 661.826 Q120.459 665.368 124.07 665.368 Q127.705 665.368 129.51 661.826 Q131.339 658.261 131.339 651.155 Q131.339 644.025 129.51 640.483 Q127.705 636.919 124.07 636.919 M124.07 633.215 Q129.881 633.215 132.936 637.821 Q136.015 642.405 136.015 651.155 Q136.015 659.881 132.936 664.488 Q129.881 669.071 124.07 669.071 Q118.26 669.071 115.182 664.488 Q112.126 659.881 112.126 651.155 Q112.126 642.405 115.182 637.821 Q118.26 633.215 124.07 633.215 Z\" fill=\"#000000\" fill-rule=\"evenodd\" fill-opacity=\"1\" /><path clip-path=\"url(#clip460)\" d=\"M154.232 636.919 Q150.621 636.919 148.793 640.483 Q146.987 644.025 146.987 651.155 Q146.987 658.261 148.793 661.826 Q150.621 665.368 154.232 665.368 Q157.867 665.368 159.672 661.826 Q161.501 658.261 161.501 651.155 Q161.501 644.025 159.672 640.483 Q157.867 636.919 154.232 636.919 M154.232 633.215 Q160.042 633.215 163.098 637.821 Q166.177 642.405 166.177 651.155 Q166.177 659.881 163.098 664.488 Q160.042 669.071 154.232 669.071 Q148.422 669.071 145.343 664.488 Q142.288 659.881 142.288 651.155 Q142.288 642.405 145.343 637.821 Q148.422 633.215 154.232 633.215 Z\" fill=\"#000000\" fill-rule=\"evenodd\" fill-opacity=\"1\" /><path clip-path=\"url(#clip460)\" d=\"M66.5939 356.342 L54.7884 374.791 L66.5939 374.791 L66.5939 356.342 M65.367 352.268 L71.2466 352.268 L71.2466 374.791 L76.1772 374.791 L76.1772 378.68 L71.2466 378.68 L71.2466 386.828 L66.5939 386.828 L66.5939 378.68 L50.9921 378.68 L50.9921 374.166 L65.367 352.268 Z\" fill=\"#000000\" fill-rule=\"evenodd\" fill-opacity=\"1\" /><path clip-path=\"url(#clip460)\" d=\"M93.9086 355.347 Q90.2975 355.347 88.4688 358.912 Q86.6632 362.453 86.6632 369.583 Q86.6632 376.689 88.4688 380.254 Q90.2975 383.796 93.9086 383.796 Q97.5428 383.796 99.3483 380.254 Q101.177 376.689 101.177 369.583 Q101.177 362.453 99.3483 358.912 Q97.5428 355.347 93.9086 355.347 M93.9086 351.643 Q99.7187 351.643 102.774 356.25 Q105.853 360.833 105.853 369.583 Q105.853 378.31 102.774 382.916 Q99.7187 387.499 93.9086 387.499 Q88.0984 387.499 85.0197 382.916 Q81.9642 378.31 81.9642 369.583 Q81.9642 360.833 85.0197 356.25 Q88.0984 351.643 93.9086 351.643 Z\" fill=\"#000000\" fill-rule=\"evenodd\" fill-opacity=\"1\" /><path clip-path=\"url(#clip460)\" d=\"M124.07 355.347 Q120.459 355.347 118.631 358.912 Q116.825 362.453 116.825 369.583 Q116.825 376.689 118.631 380.254 Q120.459 383.796 124.07 383.796 Q127.705 383.796 129.51 380.254 Q131.339 376.689 131.339 369.583 Q131.339 362.453 129.51 358.912 Q127.705 355.347 124.07 355.347 M124.07 351.643 Q129.881 351.643 132.936 356.25 Q136.015 360.833 136.015 369.583 Q136.015 378.31 132.936 382.916 Q129.881 387.499 124.07 387.499 Q118.26 387.499 115.182 382.916 Q112.126 378.31 112.126 369.583 Q112.126 360.833 115.182 356.25 Q118.26 351.643 124.07 351.643 Z\" fill=\"#000000\" fill-rule=\"evenodd\" fill-opacity=\"1\" /><path clip-path=\"url(#clip460)\" d=\"M154.232 355.347 Q150.621 355.347 148.793 358.912 Q146.987 362.453 146.987 369.583 Q146.987 376.689 148.793 380.254 Q150.621 383.796 154.232 383.796 Q157.867 383.796 159.672 380.254 Q161.501 376.689 161.501 369.583 Q161.501 362.453 159.672 358.912 Q157.867 355.347 154.232 355.347 M154.232 351.643 Q160.042 351.643 163.098 356.25 Q166.177 360.833 166.177 369.583 Q166.177 378.31 163.098 382.916 Q160.042 387.499 154.232 387.499 Q148.422 387.499 145.343 382.916 Q142.288 378.31 142.288 369.583 Q142.288 360.833 145.343 356.25 Q148.422 351.643 154.232 351.643 Z\" fill=\"#000000\" fill-rule=\"evenodd\" fill-opacity=\"1\" /><path clip-path=\"url(#clip460)\" d=\"M53.793 70.6963 L72.1494 70.6963 L72.1494 74.6314 L58.0754 74.6314 L58.0754 83.1036 Q59.0939 82.7564 60.1124 82.5944 Q61.131 82.4092 62.1495 82.4092 Q67.9365 82.4092 71.3161 85.5805 Q74.6957 88.7517 74.6957 94.1684 Q74.6957 99.747 71.2235 102.849 Q67.7513 105.928 61.4319 105.928 Q59.256 105.928 56.9875 105.557 Q54.7421 105.187 52.3347 104.446 L52.3347 99.747 Q54.418 100.881 56.6402 101.437 Q58.8625 101.992 61.3393 101.992 Q65.3439 101.992 67.6819 99.8859 Q70.0198 97.7795 70.0198 94.1684 Q70.0198 90.5573 67.6819 88.4508 Q65.3439 86.3443 61.3393 86.3443 Q59.4643 86.3443 57.5893 86.761 Q55.7375 87.1777 53.793 88.0573 L53.793 70.6963 Z\" fill=\"#000000\" fill-rule=\"evenodd\" fill-opacity=\"1\" /><path clip-path=\"url(#clip460)\" d=\"M93.9086 73.775 Q90.2975 73.775 88.4688 77.3398 Q86.6632 80.8814 86.6632 88.011 Q86.6632 95.1174 88.4688 98.6822 Q90.2975 102.224 93.9086 102.224 Q97.5428 102.224 99.3483 98.6822 Q101.177 95.1174 101.177 88.011 Q101.177 80.8814 99.3483 77.3398 Q97.5428 73.775 93.9086 73.775 M93.9086 70.0713 Q99.7187 70.0713 102.774 74.6777 Q105.853 79.261 105.853 88.011 Q105.853 96.7378 102.774 101.344 Q99.7187 105.928 93.9086 105.928 Q88.0984 105.928 85.0197 101.344 Q81.9642 96.7378 81.9642 88.011 Q81.9642 79.261 85.0197 74.6777 Q88.0984 70.0713 93.9086 70.0713 Z\" fill=\"#000000\" fill-rule=\"evenodd\" fill-opacity=\"1\" /><path clip-path=\"url(#clip460)\" d=\"M124.07 73.775 Q120.459 73.775 118.631 77.3398 Q116.825 80.8814 116.825 88.011 Q116.825 95.1174 118.631 98.6822 Q120.459 102.224 124.07 102.224 Q127.705 102.224 129.51 98.6822 Q131.339 95.1174 131.339 88.011 Q131.339 80.8814 129.51 77.3398 Q127.705 73.775 124.07 73.775 M124.07 70.0713 Q129.881 70.0713 132.936 74.6777 Q136.015 79.261 136.015 88.011 Q136.015 96.7378 132.936 101.344 Q129.881 105.928 124.07 105.928 Q118.26 105.928 115.182 101.344 Q112.126 96.7378 112.126 88.011 Q112.126 79.261 115.182 74.6777 Q118.26 70.0713 124.07 70.0713 Z\" fill=\"#000000\" fill-rule=\"evenodd\" fill-opacity=\"1\" /><path clip-path=\"url(#clip460)\" d=\"M154.232 73.775 Q150.621 73.775 148.793 77.3398 Q146.987 80.8814 146.987 88.011 Q146.987 95.1174 148.793 98.6822 Q150.621 102.224 154.232 102.224 Q157.867 102.224 159.672 98.6822 Q161.501 95.1174 161.501 88.011 Q161.501 80.8814 159.672 77.3398 Q157.867 73.775 154.232 73.775 M154.232 70.0713 Q160.042 70.0713 163.098 74.6777 Q166.177 79.261 166.177 88.011 Q166.177 96.7378 163.098 101.344 Q160.042 105.928 154.232 105.928 Q148.422 105.928 145.343 101.344 Q142.288 96.7378 142.288 88.011 Q142.288 79.261 145.343 74.6777 Q148.422 70.0713 154.232 70.0713 Z\" fill=\"#000000\" fill-rule=\"evenodd\" fill-opacity=\"1\" /><polyline clip-path=\"url(#clip462)\" style=\"stroke:#009af9; stroke-linecap:round; stroke-linejoin:round; stroke-width:4; stroke-opacity:1; fill:none\" points=\"263.042,87.9763 283.331,87.9763 303.619,87.9763 323.908,87.9763 344.196,276.348 364.485,520.189 384.773,682.656 405.062,798.664 425.35,885.669 445.638,953.528 465.927,1007.59 486.215,1051.8 506.504,1088.68 526.792,1119.94 547.081,1146.69 567.369,1170.06 587.658,1190.33 607.946,1208.35 628.235,1224.12 648.523,1238.48 668.812,1251.15 689.1,1262.69 709.389,1273.39 729.677,1282.97 749.966,1291.7 770.254,1299.86 790.543,1307.46 810.831,1314.22 831.12,1320.7 851.408,1326.61 871.697,1332.24 891.985,1337.59 912.274,1342.38 932.562,1347.17 952.851,1351.39 973.139,1355.33 993.428,1359.27 1013.72,1362.93 1034,1366.31 1054.29,1369.69 1074.58,1372.79 1094.87,1375.89 1115.16,1378.7 1135.45,1381.24 1155.74,1383.77 1176.02,1386.3 1196.31,1388.56 1216.6,1390.81 1236.89,1393.06 1257.18,1395.03 1277.47,1397 1297.75,1398.97 1318.04,1400.95 1338.33,1402.64 1358.62,1404.32 1378.91,1406.01 1399.2,1407.42 1419.49,1409.11 1439.77,1410.52 1460.06,1411.93 1480.35,1413.33 1500.64,1414.74 1520.93,1415.87 1541.22,1417.28 1561.51,1418.4 1581.79,1419.53 1602.08,1420.66 1622.37,1421.78 1642.66,1422.91 1662.95,1423.75 1683.24,1424.88 1703.52,1425.72 1723.81,1426.85 1744.1,1427.7 1764.39,1428.54 1784.68,1429.38 1804.97,1430.23 1825.26,1431.07 1845.54,1431.92 1865.83,1432.76 1886.12,1433.61 1906.41,1434.17 1926.7,1435.02 1946.99,1435.58 1967.27,1436.42 1987.56,1436.99 2007.85,1437.83 2028.14,1438.39 2048.43,1438.96 2068.72,1439.52 2089.01,1440.08 2109.29,1440.93 2129.58,1441.49 2149.87,1442.06 2170.16,1442.62 2190.45,1443.18 2210.74,1443.46 2231.03,1444.03 2251.31,1444.59 2271.6,1445.15 2291.89,1445.72 \"/>\n",
       "<path clip-path=\"url(#clip460)\" d=\"M2013.58 198.898 L2281.07 198.898 L2281.07 95.2176 L2013.58 95.2176  Z\" fill=\"#ffffff\" fill-rule=\"evenodd\" fill-opacity=\"1\"/>\n",
       "<polyline clip-path=\"url(#clip460)\" style=\"stroke:#000000; stroke-linecap:round; stroke-linejoin:round; stroke-width:4; stroke-opacity:1; fill:none\" points=\"2013.58,198.898 2281.07,198.898 2281.07,95.2176 2013.58,95.2176 2013.58,198.898 \"/>\n",
       "<polyline clip-path=\"url(#clip460)\" style=\"stroke:#009af9; stroke-linecap:round; stroke-linejoin:round; stroke-width:4; stroke-opacity:1; fill:none\" points=\"2037.48,147.058 2180.85,147.058 \"/>\n",
       "<path clip-path=\"url(#clip460)\" d=\"M2218.59 166.745 Q2216.78 171.375 2215.07 172.787 Q2213.36 174.199 2210.49 174.199 L2207.08 174.199 L2207.08 170.634 L2209.58 170.634 Q2211.34 170.634 2212.31 169.8 Q2213.29 168.967 2214.47 165.865 L2215.23 163.921 L2204.74 138.412 L2209.26 138.412 L2217.36 158.689 L2225.46 138.412 L2229.98 138.412 L2218.59 166.745 Z\" fill=\"#000000\" fill-rule=\"evenodd\" fill-opacity=\"1\" /><path clip-path=\"url(#clip460)\" d=\"M2237.27 160.402 L2244.91 160.402 L2244.91 134.037 L2236.6 135.703 L2236.6 131.444 L2244.86 129.778 L2249.54 129.778 L2249.54 160.402 L2257.17 160.402 L2257.17 164.338 L2237.27 164.338 L2237.27 160.402 Z\" fill=\"#000000\" fill-rule=\"evenodd\" fill-opacity=\"1\" /></svg>\n"
      ]
     },
     "execution_count": 53,
     "metadata": {},
     "output_type": "execute_result"
    }
   ],
   "source": [
    "# Expérimentations numériques à faire ici\n",
    "# Vous pouvez utiliser le package Plots pour les affichages de courbes: using Plots\n",
    "include(\"../src/newton.jl\") # votre algorithme de Newton\n",
    "include(\"../src/regions_de_confiance.jl\") # votre algorithme de RC\n",
    "\n",
    "using Plots\n",
    "y = []\n",
    "x0 = [10000;10000;10000]\n",
    "for delta_max = 0:100\n",
    "    x_sol, f_sol, flag, nb_iters = regions_de_confiance(fct1, grad_fct1, hess_fct1, x0, algo_pas=\"cauchy\", Δmax=delta_max)\n",
    "    y = vcat(y, [nb_iters]) \n",
    "    \n",
    "end \n",
    "\n",
    "plot(0:100, y)"
   ]
  },
  {
   "cell_type": "code",
   "execution_count": null,
   "metadata": {},
   "outputs": [],
   "source": []
  },
  {
   "cell_type": "markdown",
   "metadata": {},
   "source": [
    "# Régions de confiance avec gradient conjugué tronqué\n",
    "\n",
    "## Implémentation \n",
    "\n",
    "1. Implémenter l’algorithme du gradient conjugué tronqué (fichier `src/gct.jl`). Sa spécification est dans le fichier.\n",
    "2. Vérifier que les tests ci-dessous passent."
   ]
  },
  {
   "cell_type": "code",
   "execution_count": 4,
   "metadata": {},
   "outputs": [
    {
     "name": "stdout",
     "output_type": "stream",
     "text": [
      "\u001b[0m\u001b[1mTest Summary:             | \u001b[22m\u001b[32m\u001b[1mPass  \u001b[22m\u001b[39m\u001b[36m\u001b[1mTotal  \u001b[22m\u001b[39m\u001b[0m\u001b[1mTime\u001b[22m\n",
      "Gradient conjugué tronqué | \u001b[32m   9  \u001b[39m\u001b[36m    9  \u001b[39m\u001b[0m0.0s\n"
     ]
    }
   ],
   "source": [
    "include(\"../src/gct.jl\")\n",
    "include(\"../test/tester_gct.jl\")\n",
    "\n",
    "#\n",
    "tester_gct(gct);"
   ]
  },
  {
   "cell_type": "markdown",
   "metadata": {},
   "source": [
    "3. Intégrer l’algorithme du gradient conjugué tronqué dans le code des régions de confiance.\n",
    "4. Vérifier que les tests ci-dessous passent."
   ]
  },
  {
   "cell_type": "code",
   "execution_count": 5,
   "metadata": {},
   "outputs": [
    {
     "name": "stdout",
     "output_type": "stream",
     "text": [
      "Affichage des résultats des algorithmes : false\n",
      "\n",
      "\u001b[0m\u001b[1mTest Summary: | \u001b[22m\u001b[32m\u001b[1mPass  \u001b[22m\u001b[39m\u001b[36m\u001b[1mTotal  \u001b[22m\u001b[39m\u001b[0m\u001b[1mTime\u001b[22m\n",
      "RC et gct     | \u001b[32m  15  \u001b[39m\u001b[36m   15  \u001b[39m\u001b[0m0.5s\n"
     ]
    }
   ],
   "source": [
    "include(\"../src/regions_de_confiance.jl\")\n",
    "include(\"../test/tester_rc_gct.jl\")\n",
    "\n",
    "#\n",
    "afficher = false # si true, alors affiche les résultats des algorithmes\n",
    "\n",
    "#\n",
    "tester_rc_gct(regions_de_confiance, afficher);"
   ]
  },
  {
   "cell_type": "markdown",
   "metadata": {},
   "source": [
    "## Interprétation  \n",
    "\n",
    "Nous proposons de comparer l'utilisation du pas de Cauchy avec celle du gradient conjugué tronqué dans l'algorithme des régions de confiance.\n",
    "\n",
    "**Remarques.**\n",
    "* Nous vous demandons de réaliser des expérimentations numériques pour les comparaisons demandées ci-après.\n",
    "* Vous devez utiliser l'argument optionnel `max_iter_gct` et la sortie `xs` de l'algorithme des régions de confiance.\n",
    "* Vous pouvez comparer l'écart en norme entre les itérés de l'algorithme et la solution du problème.\n",
    "* Vous trouverez des choses utiles dans le fichier `test/fonctions_de_tests.jl`.\n",
    "\n",
    "1. Comparer dans le cas où l'on force le gradient conjugué tronqué à ne faire qu'une seule itération. Que remarquez vous ?\n",
    "2. Comparer dans le cas général. Que remarquez vous ?\n",
    "3. Quels sont les avantages et inconvénients des deux approches ?"
   ]
  },
  {
   "cell_type": "code",
   "execution_count": 6,
   "metadata": {},
   "outputs": [],
   "source": [
    "# Expérimentations numériques à faire ici.\n",
    "# Vous pouvez utiliser le package Plots pour les affichages de courbes: using Plots"
   ]
  },
  {
   "cell_type": "code",
   "execution_count": null,
   "metadata": {},
   "outputs": [],
   "source": []
  },
  {
   "cell_type": "code",
   "execution_count": null,
   "metadata": {},
   "outputs": [],
   "source": []
  }
 ],
 "metadata": {
  "kernelspec": {
   "display_name": "Julia 1.8.2 - N7",
   "language": "julia",
   "name": "julia-1.8-n7"
  },
  "language_info": {
   "file_extension": ".jl",
   "mimetype": "application/julia",
   "name": "julia",
   "version": "1.8.2"
  }
 },
 "nbformat": 4,
 "nbformat_minor": 4
}
